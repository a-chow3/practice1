{
 "cells": [
  {
   "cell_type": "markdown",
   "id": "7c6c1330",
   "metadata": {},
   "source": [
    "# Assignment 3\n",
    "### Due 9/21. Do four of five."
   ]
  },
  {
   "cell_type": "markdown",
   "id": "c7761202",
   "metadata": {},
   "source": [
    "1. \n",
    "- Open the NHANES (or Ames prices or college completion datasets, if you prefer)\n",
    "- Find two categorical variables of interest (there are 198, and short descriptions are given in the `nhanes_meta_17_18.csv` file). Investigate their missing values (you don't have to focus on missing values for this analysis like we did with police use of force, but always be aware of how dirty the data are)\n",
    "- Compute a contingency table for your categorical $X$ and $Y$\n",
    "- Discuss any interesting patterns (or lack of one) that you observe"
   ]
  },
  {
   "cell_type": "code",
   "execution_count": 1,
   "id": "84b0627a",
   "metadata": {},
   "outputs": [
    {
     "name": "stderr",
     "output_type": "stream",
     "text": [
      "/var/folders/8j/b374spys48z0_v4q1g1pr4bc0000gn/T/ipykernel_28820/712252106.py:4: DtypeWarning: Columns (142) have mixed types. Specify dtype option on import or set low_memory=False.\n",
      "  nhanes  = pd.read_csv('/Users/adamchow/Library/CloudStorage/Box-Box/UVA/MSDS/Fall 2025/DS 5030/Assignments/practice1/data/nhanes_data_17_18.csv')\n"
     ]
    },
    {
     "data": {
      "application/vnd.microsoft.datawrangler.viewer.v0+json": {
       "columns": [
        {
         "name": "index",
         "rawType": "int64",
         "type": "integer"
        },
        {
         "name": "SEQN",
         "rawType": "float64",
         "type": "float"
        },
        {
         "name": "GeneralHealthCondition",
         "rawType": "object",
         "type": "unknown"
        },
        {
         "name": "EverBreastfedOrFedBreastmilk",
         "rawType": "float64",
         "type": "float"
        },
        {
         "name": "AgeStoppedBreastfeedingdays",
         "rawType": "float64",
         "type": "float"
        },
        {
         "name": "AgeFirstFedFormuladays",
         "rawType": "float64",
         "type": "float"
        },
        {
         "name": "AgeStoppedReceivingFormuladays",
         "rawType": "float64",
         "type": "float"
        },
        {
         "name": "AgeStartedOtherFoodbeverage",
         "rawType": "float64",
         "type": "float"
        },
        {
         "name": "AgeFirstFedMilkdays",
         "rawType": "float64",
         "type": "float"
        },
        {
         "name": "TypeOfMilkFirstFedWholeMilk",
         "rawType": "object",
         "type": "unknown"
        },
        {
         "name": "TypeOfMilkFirstFed2Milk",
         "rawType": "float64",
         "type": "float"
        },
        {
         "name": "TypeOfMilkFirstFed1Milk",
         "rawType": "float64",
         "type": "float"
        },
        {
         "name": "TypeOfMilkFirstFedFatFreeMilk",
         "rawType": "float64",
         "type": "float"
        },
        {
         "name": "TypeOfMilkFirstFedSoyMilk",
         "rawType": "float64",
         "type": "float"
        },
        {
         "name": "TypeOfMilkFirstFedOther",
         "rawType": "float64",
         "type": "float"
        },
        {
         "name": "HowHealthyIsTheDiet",
         "rawType": "object",
         "type": "unknown"
        },
        {
         "name": "Past30DayMilkProductConsumption",
         "rawType": "object",
         "type": "string"
        },
        {
         "name": "YouDrinkWholeOrRegularMilk",
         "rawType": "object",
         "type": "unknown"
        },
        {
         "name": "YouDrink2FatMilk",
         "rawType": "float64",
         "type": "float"
        },
        {
         "name": "YouDrink1FatMilk",
         "rawType": "float64",
         "type": "float"
        },
        {
         "name": "YouDrinkFatFreeskimMilk",
         "rawType": "float64",
         "type": "float"
        },
        {
         "name": "YouDrinkSoyMilk",
         "rawType": "float64",
         "type": "float"
        },
        {
         "name": "YouDrinkAnotherTypeOfMilk",
         "rawType": "float64",
         "type": "float"
        },
        {
         "name": "RegularMilkUse5TimesPerWeek",
         "rawType": "object",
         "type": "unknown"
        },
        {
         "name": "HowOftenDrankMilkAge512",
         "rawType": "object",
         "type": "unknown"
        },
        {
         "name": "HowOftenDrankMilkAge1317",
         "rawType": "object",
         "type": "unknown"
        },
        {
         "name": "HowOftenDrankMilkAge1835",
         "rawType": "object",
         "type": "unknown"
        },
        {
         "name": "CommunitygovernmentMealsDelivered",
         "rawType": "float64",
         "type": "float"
        },
        {
         "name": "EatMealsAtCommunityseniorCenter",
         "rawType": "float64",
         "type": "float"
        },
        {
         "name": "AttendKindergartenThruHighSchool",
         "rawType": "float64",
         "type": "float"
        },
        {
         "name": "SchoolServesSchoolLunches",
         "rawType": "float64",
         "type": "float"
        },
        {
         "name": "OfTimesweekGetSchoolLunch",
         "rawType": "float64",
         "type": "float"
        },
        {
         "name": "SchoolLunchFreeReducedOrFullPrice",
         "rawType": "object",
         "type": "unknown"
        },
        {
         "name": "SchoolServeCompleteBreakfastEachDay",
         "rawType": "float64",
         "type": "float"
        },
        {
         "name": "OfTimesweekGetSchoolBreakfast",
         "rawType": "float64",
         "type": "float"
        },
        {
         "name": "SchoolBreakfastFreereducedfullPrice",
         "rawType": "object",
         "type": "unknown"
        },
        {
         "name": "SummerProgramMealFreereducedPrice",
         "rawType": "object",
         "type": "unknown"
        },
        {
         "name": "OfMealsNotHomePrepared",
         "rawType": "float64",
         "type": "float"
        },
        {
         "name": "OfMealsFromFastFoodOrPizzaPlace",
         "rawType": "float64",
         "type": "float"
        },
        {
         "name": "OfReadytoeatFoodsInPast30Days",
         "rawType": "float64",
         "type": "float"
        },
        {
         "name": "OfFrozenMealspizzaInPast30Days",
         "rawType": "float64",
         "type": "float"
        },
        {
         "name": "HeardOfMyPlate",
         "rawType": "float64",
         "type": "float"
        },
        {
         "name": "LookedUpMyPlateOnInternet",
         "rawType": "float64",
         "type": "float"
        },
        {
         "name": "TriedMyPlatePlan",
         "rawType": "float64",
         "type": "float"
        },
        {
         "name": "MainMealPlannerpreparer",
         "rawType": "float64",
         "type": "float"
        },
        {
         "name": "SharedMealPlanningpreparingDuty",
         "rawType": "float64",
         "type": "float"
        },
        {
         "name": "MainFoodShopper",
         "rawType": "float64",
         "type": "float"
        },
        {
         "name": "SharedFoodShoppingDuty",
         "rawType": "float64",
         "type": "float"
        },
        {
         "name": "HaveSeriousDifficultyHearing",
         "rawType": "float64",
         "type": "float"
        },
        {
         "name": "HaveSeriousDifficultySeeing",
         "rawType": "float64",
         "type": "float"
        },
        {
         "name": "HaveSeriousDifficultyConcentrating",
         "rawType": "float64",
         "type": "float"
        },
        {
         "name": "HaveSeriousDifficultyWalking",
         "rawType": "float64",
         "type": "float"
        },
        {
         "name": "HaveDifficultyDressingOrBathing",
         "rawType": "float64",
         "type": "float"
        },
        {
         "name": "HaveDifficultyDoingErrandsAlone",
         "rawType": "float64",
         "type": "float"
        },
        {
         "name": "HowOftenDoYouFeelWorriedOrAnxious",
         "rawType": "float64",
         "type": "float"
        },
        {
         "name": "TakeMedicationForTheseFeelings",
         "rawType": "float64",
         "type": "float"
        },
        {
         "name": "HowOftenDoYouFeelDepressed",
         "rawType": "float64",
         "type": "float"
        },
        {
         "name": "TakeMedicationForDepression",
         "rawType": "float64",
         "type": "float"
        },
        {
         "name": "CoveredByHealthInsurance",
         "rawType": "float64",
         "type": "float"
        },
        {
         "name": "UsualSleepTimeOnWeekdaysOrWorkdays",
         "rawType": "object",
         "type": "unknown"
        },
        {
         "name": "UsualWakeTimeOnWeekdaysOrWorkdays",
         "rawType": "object",
         "type": "unknown"
        },
        {
         "name": "SleepHoursWeekdaysOrWorkdays",
         "rawType": "float64",
         "type": "float"
        },
        {
         "name": "HowOftenDoYouSnore",
         "rawType": "object",
         "type": "unknown"
        },
        {
         "name": "EverToldDoctorHadTroubleSleeping",
         "rawType": "float64",
         "type": "float"
        },
        {
         "name": "HowOftenFeelOverlySleepyDuringDay",
         "rawType": "object",
         "type": "unknown"
        },
        {
         "name": "HaveLittleInterestInDoingThings",
         "rawType": "float64",
         "type": "float"
        },
        {
         "name": "FeelingDownDepressedOrHopeless",
         "rawType": "float64",
         "type": "float"
        },
        {
         "name": "TroubleSleepingOrSleepingTooMuch",
         "rawType": "float64",
         "type": "float"
        },
        {
         "name": "FeelingTiredOrHavingLittleEnergy",
         "rawType": "float64",
         "type": "float"
        },
        {
         "name": "PoorAppetiteOrOvereating",
         "rawType": "float64",
         "type": "float"
        },
        {
         "name": "FeelingBadAboutYourself",
         "rawType": "float64",
         "type": "float"
        },
        {
         "name": "TroubleConcentratingOnThings",
         "rawType": "float64",
         "type": "float"
        },
        {
         "name": "MovingOrSpeakingSlowlyOrTooFast",
         "rawType": "float64",
         "type": "float"
        },
        {
         "name": "ThoughtYouWouldBeBetterOffDead",
         "rawType": "float64",
         "type": "float"
        },
        {
         "name": "DifficultyTheseProblemsHaveCaused",
         "rawType": "object",
         "type": "unknown"
        },
        {
         "name": "SmokedTobaccoLast5Days",
         "rawType": "float64",
         "type": "float"
        },
        {
         "name": "DaysSmokedCigarettesLast5Days",
         "rawType": "float64",
         "type": "float"
        },
        {
         "name": "CigarettesSmokedPerDay",
         "rawType": "float64",
         "type": "float"
        },
        {
         "name": "UsedAnyTobaccoProductLast5Days",
         "rawType": "float64",
         "type": "float"
        },
        {
         "name": "ExperienceConfusionmemoryProblems",
         "rawType": "float64",
         "type": "float"
        },
        {
         "name": "PhysicalMentalEmotionalLimitations",
         "rawType": "float64",
         "type": "float"
        },
        {
         "name": "DifficultyManagingMoney",
         "rawType": "object",
         "type": "unknown"
        },
        {
         "name": "60SecHr30SecHr2",
         "rawType": "float64",
         "type": "float"
        },
        {
         "name": "60SecPulse30SecPulse2",
         "rawType": "float64",
         "type": "float"
        },
        {
         "name": "SystolicBloodPres1StRdgMmHg",
         "rawType": "float64",
         "type": "float"
        },
        {
         "name": "DiastolicBloodPres1StRdgMmHg",
         "rawType": "float64",
         "type": "float"
        },
        {
         "name": "SystolicBloodPres2NdRdgMmHg",
         "rawType": "float64",
         "type": "float"
        },
        {
         "name": "DiastolicBloodPres2NdRdgMmHg",
         "rawType": "float64",
         "type": "float"
        },
        {
         "name": "SystolicBloodPres3RdRdgMmHg",
         "rawType": "float64",
         "type": "float"
        },
        {
         "name": "DiastolicBloodPres3RdRdgMmHg",
         "rawType": "float64",
         "type": "float"
        },
        {
         "name": "EnergyKcal_DR2TOT",
         "rawType": "float64",
         "type": "float"
        },
        {
         "name": "ProteinGm_DR2TOT",
         "rawType": "float64",
         "type": "float"
        },
        {
         "name": "CarbohydrateGm_DR2TOT",
         "rawType": "float64",
         "type": "float"
        },
        {
         "name": "TotalSugarsGm_DR2TOT",
         "rawType": "float64",
         "type": "float"
        },
        {
         "name": "DietaryFiberGm_DR2TOT",
         "rawType": "float64",
         "type": "float"
        },
        {
         "name": "TotalFatGm_DR2TOT",
         "rawType": "float64",
         "type": "float"
        },
        {
         "name": "TotalSaturatedFattyAcidsGm_DR2TOT",
         "rawType": "float64",
         "type": "float"
        },
        {
         "name": "TotalMonounsaturatedFattyAcidsGm_DR2TOT",
         "rawType": "float64",
         "type": "float"
        },
        {
         "name": "TotalPolyunsaturatedFattyAcidsGm_DR2TOT",
         "rawType": "float64",
         "type": "float"
        },
        {
         "name": "CholesterolMg_DR2TOT",
         "rawType": "float64",
         "type": "float"
        },
        {
         "name": "AlcoholGm_DR2TOT",
         "rawType": "float64",
         "type": "float"
        },
        {
         "name": "WeightKg",
         "rawType": "float64",
         "type": "float"
        },
        {
         "name": "RecumbentLengthCm",
         "rawType": "float64",
         "type": "float"
        },
        {
         "name": "StandingHeightCm",
         "rawType": "float64",
         "type": "float"
        },
        {
         "name": "BodyMassIndexKgm2",
         "rawType": "float64",
         "type": "float"
        },
        {
         "name": "WaistCircumferenceCm",
         "rawType": "float64",
         "type": "float"
        },
        {
         "name": "DirectHdlcholesterolMgdl",
         "rawType": "float64",
         "type": "float"
        },
        {
         "name": "TotalCholesterolMgdl",
         "rawType": "float64",
         "type": "float"
        },
        {
         "name": "VigorousWorkActivity",
         "rawType": "float64",
         "type": "float"
        },
        {
         "name": "ModerateWorkActivity",
         "rawType": "float64",
         "type": "float"
        },
        {
         "name": "WalkOrBicycle",
         "rawType": "float64",
         "type": "float"
        },
        {
         "name": "VigorousRecreationalActivities",
         "rawType": "float64",
         "type": "float"
        },
        {
         "name": "ModerateRecreationalActivities",
         "rawType": "float64",
         "type": "float"
        },
        {
         "name": "MinutesSedentaryActivity",
         "rawType": "float64",
         "type": "float"
        },
        {
         "name": "EverBeenToldYouHaveAsthma",
         "rawType": "float64",
         "type": "float"
        },
        {
         "name": "DoctorEverSaidYouHadArthritis",
         "rawType": "float64",
         "type": "float"
        },
        {
         "name": "EverToldYouHadHeartAttack",
         "rawType": "float64",
         "type": "float"
        },
        {
         "name": "AgeWhenToldYouHadHeartAttack",
         "rawType": "float64",
         "type": "float"
        },
        {
         "name": "EverToldYouHadAStroke",
         "rawType": "float64",
         "type": "float"
        },
        {
         "name": "AgeWhenToldYouHadAStroke",
         "rawType": "float64",
         "type": "float"
        },
        {
         "name": "EverToldYouHadCancerOrMalignancy",
         "rawType": "float64",
         "type": "float"
        },
        {
         "name": "1StCancerWhatKindWasIt",
         "rawType": "float64",
         "type": "float"
        },
        {
         "name": "Age1StCancerMcq230ADiagnosed",
         "rawType": "float64",
         "type": "float"
        },
        {
         "name": "EverUsedMarijuanaOrHashish",
         "rawType": "float64",
         "type": "float"
        },
        {
         "name": "DaysUsedMarijuanaOrHashishmonth",
         "rawType": "float64",
         "type": "float"
        },
        {
         "name": "EverUsedCocaineheroinmethamphetamine",
         "rawType": "float64",
         "type": "float"
        },
        {
         "name": "EverUseAnyFormOfCocaine",
         "rawType": "float64",
         "type": "float"
        },
        {
         "name": "OfDaysUsedCocainemonth",
         "rawType": "float64",
         "type": "float"
        },
        {
         "name": "EverUsedHeroin",
         "rawType": "float64",
         "type": "float"
        },
        {
         "name": "OfDaysUsedHeroinmonth",
         "rawType": "float64",
         "type": "float"
        },
        {
         "name": "EverUsedMethamphetamine",
         "rawType": "float64",
         "type": "float"
        },
        {
         "name": "DaysUsedMethamphetaminemonth",
         "rawType": "float64",
         "type": "float"
        },
        {
         "name": "EverBeenInRehabilitationProgram",
         "rawType": "float64",
         "type": "float"
        },
        {
         "name": "BloodLeadUgdl",
         "rawType": "float64",
         "type": "float"
        },
        {
         "name": "BloodCadmiumUgl",
         "rawType": "float64",
         "type": "float"
        },
        {
         "name": "BloodMercuryTotalUgl",
         "rawType": "float64",
         "type": "float"
        },
        {
         "name": "BloodSeleniumUgl",
         "rawType": "float64",
         "type": "float"
        },
        {
         "name": "BloodManganeseUgl",
         "rawType": "float64",
         "type": "float"
        },
        {
         "name": "Gender",
         "rawType": "object",
         "type": "string"
        },
        {
         "name": "AgeInYearsAtScreening",
         "rawType": "float64",
         "type": "float"
        },
        {
         "name": "AgeInMonthsAtScreening0To24Mos",
         "rawType": "float64",
         "type": "float"
        },
        {
         "name": "RacehispanicOrigin",
         "rawType": "object",
         "type": "string"
        },
        {
         "name": "RacehispanicOriginWNhAsian",
         "rawType": "object",
         "type": "string"
        },
        {
         "name": "ServedActiveDutyInUsArmedForces",
         "rawType": "object",
         "type": "unknown"
        },
        {
         "name": "EducationLevelChildrenyouth619",
         "rawType": "object",
         "type": "unknown"
        },
        {
         "name": "EducationLevelAdults20",
         "rawType": "object",
         "type": "unknown"
        },
        {
         "name": "MaritalStatus",
         "rawType": "object",
         "type": "unknown"
        },
        {
         "name": "TotalNumberOfPeopleInTheHousehold",
         "rawType": "object",
         "type": "string"
        },
        {
         "name": "TotalNumberOfPeopleInTheFamily",
         "rawType": "object",
         "type": "string"
        },
        {
         "name": "OfChildren5YearsOrYoungerInHh",
         "rawType": "object",
         "type": "string"
        },
        {
         "name": "OfChildren617YearsOldInHh",
         "rawType": "object",
         "type": "string"
        },
        {
         "name": "OfAdults60YearsOrOlderInHh",
         "rawType": "object",
         "type": "string"
        },
        {
         "name": "AnnualHouseholdIncome",
         "rawType": "float64",
         "type": "float"
        },
        {
         "name": "AnnualFamilyIncome",
         "rawType": "float64",
         "type": "float"
        },
        {
         "name": "RatioOfFamilyIncomeToPoverty",
         "rawType": "float64",
         "type": "float"
        },
        {
         "name": "TrunkFatG",
         "rawType": "float64",
         "type": "float"
        },
        {
         "name": "TrunkPercentFat",
         "rawType": "float64",
         "type": "float"
        },
        {
         "name": "TotalPercentFat",
         "rawType": "float64",
         "type": "float"
        },
        {
         "name": "HowOftenAddSaltToFoodAtTable",
         "rawType": "object",
         "type": "unknown"
        },
        {
         "name": "OnSpecialDiet",
         "rawType": "float64",
         "type": "float"
        },
        {
         "name": "WeightLosslowCalorieDiet",
         "rawType": "float64",
         "type": "float"
        },
        {
         "name": "LowFatlowCholesterolDiet",
         "rawType": "float64",
         "type": "float"
        },
        {
         "name": "LowSaltlowSodiumDiet",
         "rawType": "float64",
         "type": "float"
        },
        {
         "name": "DiabeticDiet",
         "rawType": "float64",
         "type": "float"
        },
        {
         "name": "LowCarbohydrateDiet",
         "rawType": "float64",
         "type": "float"
        },
        {
         "name": "EnergyKcal_DR1TOT",
         "rawType": "float64",
         "type": "float"
        },
        {
         "name": "ProteinGm_DR1TOT",
         "rawType": "float64",
         "type": "float"
        },
        {
         "name": "CarbohydrateGm_DR1TOT",
         "rawType": "float64",
         "type": "float"
        },
        {
         "name": "TotalSugarsGm_DR1TOT",
         "rawType": "float64",
         "type": "float"
        },
        {
         "name": "DietaryFiberGm_DR1TOT",
         "rawType": "float64",
         "type": "float"
        },
        {
         "name": "TotalFatGm_DR1TOT",
         "rawType": "float64",
         "type": "float"
        },
        {
         "name": "TotalSaturatedFattyAcidsGm_DR1TOT",
         "rawType": "float64",
         "type": "float"
        },
        {
         "name": "TotalMonounsaturatedFattyAcidsGm_DR1TOT",
         "rawType": "float64",
         "type": "float"
        },
        {
         "name": "TotalPolyunsaturatedFattyAcidsGm_DR1TOT",
         "rawType": "float64",
         "type": "float"
        },
        {
         "name": "CholesterolMg_DR1TOT",
         "rawType": "float64",
         "type": "float"
        },
        {
         "name": "AlcoholGm_DR1TOT",
         "rawType": "float64",
         "type": "float"
        },
        {
         "name": "TunaEatenDuringPast30Days",
         "rawType": "float64",
         "type": "float"
        },
        {
         "name": "DoctorToldYouHaveDiabetes",
         "rawType": "object",
         "type": "string"
        },
        {
         "name": "AgeWhenFirstToldYouHadDiabetes",
         "rawType": "float64",
         "type": "float"
        },
        {
         "name": "EverToldYouHavePrediabetes",
         "rawType": "float64",
         "type": "float"
        },
        {
         "name": "EverToldHaveHealthRiskForDiabetes",
         "rawType": "float64",
         "type": "float"
        },
        {
         "name": "FamilyHistory",
         "rawType": "object",
         "type": "unknown"
        },
        {
         "name": "TakingInsulinNow",
         "rawType": "float64",
         "type": "float"
        },
        {
         "name": "TakeDiabeticPillsToLowerBloodSugar",
         "rawType": "float64",
         "type": "float"
        },
        {
         "name": "WhatWasYourLastA1CLevel",
         "rawType": "float64",
         "type": "float"
        },
        {
         "name": "Glycohemoglobin",
         "rawType": "float64",
         "type": "float"
        },
        {
         "name": "SmokedAtLeast100CigarettesInLife",
         "rawType": "float64",
         "type": "float"
        },
        {
         "name": "AgeStartedSmokingCigarettesRegularly",
         "rawType": "float64",
         "type": "float"
        },
        {
         "name": "DoYouNowSmokeCigarettes",
         "rawType": "object",
         "type": "unknown"
        },
        {
         "name": "DaysSmokedCigsDuringPast30Days",
         "rawType": "float64",
         "type": "float"
        },
        {
         "name": "AvgCigarettesdayDuringPast30Days",
         "rawType": "float64",
         "type": "float"
        },
        {
         "name": "TriedToQuitSmoking",
         "rawType": "float64",
         "type": "float"
        },
        {
         "name": "TimesStoppedSmokingCigarettes",
         "rawType": "float64",
         "type": "float"
        },
        {
         "name": "HowLongWereYouAbleToStopSmoking",
         "rawType": "float64",
         "type": "float"
        },
        {
         "name": "UnitOfMeasureDayweekmonthyear_2_SMQ",
         "rawType": "object",
         "type": "unknown"
        },
        {
         "name": "CurrentSelfreportedHeightInches",
         "rawType": "float64",
         "type": "float"
        },
        {
         "name": "CurrentSelfreportedWeightPounds",
         "rawType": "float64",
         "type": "float"
        },
        {
         "name": "TriedToLoseWeightInPastYear",
         "rawType": "float64",
         "type": "float"
        },
        {
         "name": "TimesLost10LbsOrMoreToLoseWeight",
         "rawType": "object",
         "type": "unknown"
        }
       ],
       "ref": "7a164e49-901d-456e-ba04-dd57785561aa",
       "rows": [
        [
         "0",
         "93703.0",
         null,
         "1.0",
         "273.0",
         "1.0",
         "365.0",
         "152.0",
         "365.0",
         "Whole or regular milk",
         null,
         null,
         null,
         null,
         null,
         null,
         "Often-once a day or more?",
         null,
         null,
         "12.0",
         null,
         null,
         null,
         null,
         null,
         null,
         null,
         null,
         null,
         null,
         null,
         null,
         null,
         null,
         null,
         null,
         null,
         "10.0",
         "5.397605346934028e-79",
         "5.397605346934028e-79",
         "1.0",
         null,
         null,
         null,
         null,
         null,
         null,
         null,
         "0.0",
         "0.0",
         null,
         null,
         null,
         null,
         null,
         null,
         null,
         null,
         "1.0",
         null,
         null,
         null,
         null,
         null,
         null,
         null,
         null,
         null,
         null,
         null,
         null,
         null,
         null,
         null,
         null,
         null,
         null,
         null,
         null,
         null,
         null,
         null,
         "120.0",
         null,
         null,
         null,
         null,
         null,
         null,
         null,
         null,
         null,
         null,
         null,
         null,
         null,
         null,
         null,
         null,
         null,
         null,
         "13.7",
         "89.6",
         "88.6",
         "17.5",
         "48.2",
         null,
         null,
         null,
         null,
         null,
         null,
         null,
         null,
         "0.0",
         null,
         null,
         null,
         null,
         null,
         null,
         null,
         null,
         null,
         null,
         null,
         null,
         null,
         null,
         null,
         null,
         null,
         null,
         null,
         null,
         null,
         null,
         null,
         "Female",
         "2.0",
         null,
         "Other Race - Including Multi-Racial",
         "Non-Hispanic Asian",
         null,
         null,
         null,
         null,
         "5",
         "5",
         "3 or more",
         "0",
         "0",
         "100000.0",
         "100000.0",
         "5.0",
         null,
         null,
         null,
         null,
         null,
         null,
         null,
         null,
         null,
         null,
         null,
         null,
         null,
         null,
         null,
         null,
         null,
         null,
         null,
         null,
         null,
         null,
         "0",
         null,
         null,
         null,
         null,
         "0.0",
         null,
         null,
         null,
         null,
         null,
         null,
         null,
         null,
         null,
         null,
         null,
         null,
         null,
         null,
         null,
         null
        ],
        [
         "1",
         "93704.0",
         null,
         "1.0",
         "60.0",
         "3.0",
         "365.0",
         "126.0",
         "365.0",
         "Whole or regular milk",
         null,
         null,
         null,
         null,
         null,
         null,
         "Sometimes-once a week or more but less than once a day or",
         null,
         null,
         "12.0",
         null,
         null,
         null,
         null,
         null,
         null,
         null,
         null,
         null,
         null,
         null,
         null,
         null,
         null,
         null,
         null,
         null,
         "5.397605346934028e-79",
         null,
         "5.397605346934028e-79",
         "5.397605346934028e-79",
         null,
         null,
         null,
         null,
         null,
         null,
         null,
         "0.0",
         "0.0",
         null,
         null,
         null,
         null,
         null,
         null,
         null,
         null,
         "1.0",
         null,
         null,
         null,
         null,
         null,
         null,
         null,
         null,
         null,
         null,
         null,
         null,
         null,
         null,
         null,
         null,
         null,
         null,
         null,
         null,
         null,
         null,
         null,
         "114.0",
         null,
         null,
         null,
         null,
         null,
         null,
         null,
         "1356.0",
         "30.49",
         "229.69000000000003",
         "134.37",
         "8.2",
         "37.02000000000001",
         "10.368",
         "10.443",
         "13.249",
         "70.0",
         "5.397605346934028e-79",
         "13.9",
         "95.0",
         "94.2",
         "15.7",
         "50.0",
         null,
         null,
         null,
         null,
         null,
         null,
         null,
         null,
         "0.0",
         null,
         null,
         null,
         null,
         null,
         null,
         null,
         null,
         null,
         null,
         null,
         null,
         null,
         null,
         null,
         null,
         null,
         null,
         null,
         "0.07",
         "0.47",
         "142.28",
         "9.41",
         "Male",
         "2.0",
         null,
         "Non-Hispanic White",
         "Non-Hispanic White",
         null,
         null,
         null,
         null,
         "4",
         "4",
         "2",
         "0",
         "0",
         "100000.0",
         "100000.0",
         "5.0",
         null,
         null,
         null,
         null,
         "0.0",
         null,
         null,
         null,
         null,
         null,
         "1230.0",
         "51.580000000000005",
         "160.46",
         "76.97000000000001",
         "5.9",
         "43.24000000000001",
         "11.372",
         "14.332999999999998",
         "12.506",
         "144.0",
         "5.397605346934028e-79",
         "0.0",
         "0",
         null,
         null,
         null,
         null,
         "0.0",
         null,
         null,
         null,
         null,
         null,
         null,
         null,
         null,
         null,
         null,
         null,
         null,
         null,
         null,
         null,
         null
        ],
        [
         "2",
         "93705.0",
         "Good",
         null,
         null,
         null,
         null,
         null,
         null,
         null,
         null,
         null,
         null,
         null,
         null,
         "Good",
         "Sometimes-once a week or more but less than once a day or",
         null,
         null,
         null,
         null,
         null,
         "30.0",
         "{My/His/Her} milk drinking has varied over {my/his/her} life-sometimes {I've/he's/she's} been a regular milk drinker",
         "Often-once a day or more",
         "Sometimes-once a week or more but less than once a day",
         "Sometimes-once a week or more but less than once a day",
         "0.0",
         "0.0",
         null,
         null,
         null,
         null,
         null,
         null,
         null,
         null,
         "5.0",
         "5.397605346934028e-79",
         "5.397605346934028e-79",
         "5.397605346934028e-79",
         "0.0",
         null,
         null,
         "1.0",
         "0.0",
         "1.0",
         "0.0",
         "0.0",
         "0.0",
         "0.0",
         "0.0",
         "0.0",
         "0.0",
         "1.0",
         "0.0",
         "1.0",
         "0.0",
         "1.0",
         "b'23:00'",
         "b'07:00'",
         "8.0",
         "Occasionally - 3-4 nights a week",
         "0.0",
         "Never",
         "0.0",
         "0.0",
         "0.0",
         "0.0",
         "0.0",
         "0.0",
         "0.0",
         "0.0",
         "0.0",
         null,
         "0.0",
         null,
         null,
         "0.0",
         "0.0",
         "0.0",
         "No difficulty",
         null,
         "52.0",
         null,
         null,
         null,
         null,
         "202.0",
         "62.0",
         "1235.0",
         "38.52",
         "147.49",
         "43.040000000000006",
         "13.1",
         "55.19",
         "14.079",
         "19.882",
         "17.072",
         "402.0",
         "5.397605346934028e-79",
         "79.5",
         null,
         "158.3",
         "31.7",
         "101.8",
         "60.0",
         "157.0",
         "0.0",
         "0.0",
         "0.0",
         "0.0",
         "1.0",
         "300.0",
         "1.0",
         "1.0",
         "0.0",
         null,
         "0.0",
         null,
         "0.0",
         null,
         null,
         null,
         null,
         "0.0",
         null,
         null,
         null,
         null,
         null,
         null,
         null,
         "2.98",
         "0.24",
         "1.07",
         "185.71",
         "8.57",
         "Female",
         "66.0",
         null,
         "Non-Hispanic Black",
         "Non-Hispanic Black",
         "0.0",
         null,
         "9-11th grade (Includes 12th grade with no diploma)",
         "Divorced",
         "1",
         "1",
         "0",
         "0",
         "1",
         "12500.0",
         "12500.0",
         "0.82",
         null,
         null,
         null,
         null,
         "0.0",
         null,
         null,
         null,
         null,
         null,
         "1202.0",
         "20.00999999999999",
         "157.45000000000002",
         "91.54999999999998",
         "8.4",
         "56.98",
         "16.435",
         "16.432",
         "19.786",
         "14.0",
         "5.397605346934028e-79",
         null,
         "0",
         null,
         "0.0",
         "0.0",
         null,
         "0.0",
         null,
         null,
         "6.2",
         "1.0",
         "16.0",
         "Not at all",
         null,
         null,
         null,
         null,
         null,
         null,
         "63.0",
         "165.0",
         "0.0",
         "11 times or more"
        ],
        [
         "3",
         "93706.0",
         "Very good",
         null,
         null,
         null,
         null,
         null,
         null,
         null,
         null,
         null,
         null,
         null,
         null,
         "Very good",
         "Never",
         null,
         null,
         null,
         null,
         null,
         null,
         null,
         null,
         null,
         null,
         null,
         null,
         "0.0",
         null,
         null,
         null,
         null,
         null,
         null,
         null,
         "6.0",
         "3.0",
         "5.397605346934028e-79",
         "5.397605346934028e-79",
         "0.0",
         null,
         null,
         "0.0",
         "1.0",
         "0.0",
         "1.0",
         "0.0",
         "0.0",
         "0.0",
         "0.0",
         "0.0",
         "0.0",
         "0.0",
         "0.0",
         "0.0",
         "0.0",
         "1.0",
         "b'23:30'",
         "b'10:00'",
         "10.5",
         "Rarely - 1-2 nights a week",
         "0.0",
         "Rarely - 1 time a month",
         "0.0",
         "0.0",
         "0.0",
         "0.0",
         "0.0",
         "0.0",
         "0.0",
         "0.0",
         "0.0",
         null,
         "0.0",
         null,
         null,
         "0.0",
         null,
         null,
         null,
         null,
         "82.0",
         "112.0",
         "74.0",
         "114.0",
         "70.0",
         "108.0",
         "76.0",
         null,
         null,
         null,
         null,
         null,
         null,
         null,
         null,
         null,
         null,
         null,
         "66.3",
         null,
         "175.7",
         "21.5",
         "79.3",
         "47.0",
         "148.0",
         "0.0",
         "0.0",
         "1.0",
         "0.0",
         "1.0",
         "240.0",
         "0.0",
         null,
         null,
         null,
         null,
         null,
         null,
         null,
         null,
         "0.0",
         null,
         "0.0",
         null,
         null,
         null,
         null,
         null,
         null,
         null,
         "0.74",
         "0.21",
         "10.64",
         "199.44",
         "14.07",
         "Male",
         "18.0",
         null,
         "Other Race - Including Multi-Racial",
         "Non-Hispanic Asian",
         "0.0",
         "More than high school",
         null,
         null,
         "5",
         "5",
         "0",
         "0",
         "1",
         null,
         null,
         null,
         "6358.9",
         "20.9",
         "22.7",
         "Rarely",
         "0.0",
         null,
         null,
         null,
         null,
         null,
         "1987.0",
         "94.19",
         "89.82000000000001",
         "14.729999999999997",
         "7.1000000000000005",
         "137.39",
         "35.169",
         "45.80499999999999",
         "49.873000000000005",
         "462.0",
         "5.397605346934028e-79",
         "0.0",
         "0",
         null,
         "0.0",
         "0.0",
         null,
         "0.0",
         null,
         null,
         "5.2",
         "0.0",
         null,
         null,
         null,
         null,
         null,
         null,
         null,
         null,
         "68.0",
         "145.0",
         "0.0",
         "Never"
        ],
        [
         "4",
         "93707.0",
         "Good",
         null,
         null,
         null,
         null,
         null,
         null,
         null,
         null,
         null,
         null,
         null,
         null,
         null,
         "Never",
         null,
         null,
         null,
         null,
         null,
         null,
         null,
         null,
         null,
         null,
         null,
         null,
         "1.0",
         "1.0",
         "5.0",
         "Reduced price",
         "1.0",
         "5.0",
         "Reduced price",
         "Did not attend summer program",
         "1.0",
         "1.0",
         "6.0",
         "4.0",
         null,
         null,
         null,
         null,
         null,
         null,
         null,
         "0.0",
         "0.0",
         "0.0",
         "0.0",
         "0.0",
         null,
         null,
         null,
         null,
         null,
         "1.0",
         null,
         null,
         null,
         null,
         null,
         null,
         null,
         null,
         null,
         null,
         null,
         null,
         null,
         null,
         null,
         null,
         "0.0",
         null,
         null,
         "0.0",
         null,
         null,
         null,
         null,
         "100.0",
         "128.0",
         "38.0",
         "128.0",
         "46.0",
         "128.0",
         "58.0",
         "1794.0",
         "92.03",
         "153.12",
         "85.81",
         "7.899999999999999",
         "93.98",
         "31.098",
         "35.404999999999994",
         "17.826999999999998",
         "656.0",
         "5.397605346934028e-79",
         "45.4",
         null,
         "158.4",
         "18.1",
         "64.1",
         "68.0",
         "189.0",
         null,
         null,
         null,
         null,
         null,
         null,
         "0.0",
         null,
         null,
         null,
         null,
         null,
         null,
         null,
         null,
         null,
         null,
         null,
         null,
         null,
         null,
         null,
         null,
         null,
         null,
         "0.39",
         "0.14",
         "0.2",
         "179.34",
         "12.6",
         "Male",
         "13.0",
         null,
         "Other Race - Including Multi-Racial",
         "Other Race - Including Multi-Racial",
         null,
         "6th grade",
         null,
         null,
         "7 or more people in the Household",
         "7 or more people in the Family",
         "0",
         "3 or more",
         "0",
         "70000.0",
         "70000.0",
         "1.88",
         "2972.8",
         "15.7",
         "19.0",
         null,
         "0.0",
         null,
         null,
         null,
         null,
         null,
         "1775.0",
         "59.48",
         "188.15",
         "84.22",
         "10.9",
         "89.18",
         "33.252",
         "33.712",
         "12.423999999999998",
         "585.0",
         "5.397605346934028e-79",
         null,
         "0",
         null,
         "0.0",
         "0.0",
         null,
         "0.0",
         null,
         null,
         "5.6",
         null,
         null,
         null,
         null,
         null,
         null,
         null,
         null,
         null,
         null,
         null,
         null,
         null
        ]
       ],
       "shape": {
        "columns": 198,
        "rows": 5
       }
      },
      "text/html": [
       "<div>\n",
       "<style scoped>\n",
       "    .dataframe tbody tr th:only-of-type {\n",
       "        vertical-align: middle;\n",
       "    }\n",
       "\n",
       "    .dataframe tbody tr th {\n",
       "        vertical-align: top;\n",
       "    }\n",
       "\n",
       "    .dataframe thead th {\n",
       "        text-align: right;\n",
       "    }\n",
       "</style>\n",
       "<table border=\"1\" class=\"dataframe\">\n",
       "  <thead>\n",
       "    <tr style=\"text-align: right;\">\n",
       "      <th></th>\n",
       "      <th>SEQN</th>\n",
       "      <th>GeneralHealthCondition</th>\n",
       "      <th>EverBreastfedOrFedBreastmilk</th>\n",
       "      <th>AgeStoppedBreastfeedingdays</th>\n",
       "      <th>AgeFirstFedFormuladays</th>\n",
       "      <th>AgeStoppedReceivingFormuladays</th>\n",
       "      <th>AgeStartedOtherFoodbeverage</th>\n",
       "      <th>AgeFirstFedMilkdays</th>\n",
       "      <th>TypeOfMilkFirstFedWholeMilk</th>\n",
       "      <th>TypeOfMilkFirstFed2Milk</th>\n",
       "      <th>...</th>\n",
       "      <th>DaysSmokedCigsDuringPast30Days</th>\n",
       "      <th>AvgCigarettesdayDuringPast30Days</th>\n",
       "      <th>TriedToQuitSmoking</th>\n",
       "      <th>TimesStoppedSmokingCigarettes</th>\n",
       "      <th>HowLongWereYouAbleToStopSmoking</th>\n",
       "      <th>UnitOfMeasureDayweekmonthyear_2_SMQ</th>\n",
       "      <th>CurrentSelfreportedHeightInches</th>\n",
       "      <th>CurrentSelfreportedWeightPounds</th>\n",
       "      <th>TriedToLoseWeightInPastYear</th>\n",
       "      <th>TimesLost10LbsOrMoreToLoseWeight</th>\n",
       "    </tr>\n",
       "  </thead>\n",
       "  <tbody>\n",
       "    <tr>\n",
       "      <th>0</th>\n",
       "      <td>93703.0</td>\n",
       "      <td>NaN</td>\n",
       "      <td>1.0</td>\n",
       "      <td>273.0</td>\n",
       "      <td>1.0</td>\n",
       "      <td>365.0</td>\n",
       "      <td>152.0</td>\n",
       "      <td>365.0</td>\n",
       "      <td>Whole or regular milk</td>\n",
       "      <td>NaN</td>\n",
       "      <td>...</td>\n",
       "      <td>NaN</td>\n",
       "      <td>NaN</td>\n",
       "      <td>NaN</td>\n",
       "      <td>NaN</td>\n",
       "      <td>NaN</td>\n",
       "      <td>NaN</td>\n",
       "      <td>NaN</td>\n",
       "      <td>NaN</td>\n",
       "      <td>NaN</td>\n",
       "      <td>NaN</td>\n",
       "    </tr>\n",
       "    <tr>\n",
       "      <th>1</th>\n",
       "      <td>93704.0</td>\n",
       "      <td>NaN</td>\n",
       "      <td>1.0</td>\n",
       "      <td>60.0</td>\n",
       "      <td>3.0</td>\n",
       "      <td>365.0</td>\n",
       "      <td>126.0</td>\n",
       "      <td>365.0</td>\n",
       "      <td>Whole or regular milk</td>\n",
       "      <td>NaN</td>\n",
       "      <td>...</td>\n",
       "      <td>NaN</td>\n",
       "      <td>NaN</td>\n",
       "      <td>NaN</td>\n",
       "      <td>NaN</td>\n",
       "      <td>NaN</td>\n",
       "      <td>NaN</td>\n",
       "      <td>NaN</td>\n",
       "      <td>NaN</td>\n",
       "      <td>NaN</td>\n",
       "      <td>NaN</td>\n",
       "    </tr>\n",
       "    <tr>\n",
       "      <th>2</th>\n",
       "      <td>93705.0</td>\n",
       "      <td>Good</td>\n",
       "      <td>NaN</td>\n",
       "      <td>NaN</td>\n",
       "      <td>NaN</td>\n",
       "      <td>NaN</td>\n",
       "      <td>NaN</td>\n",
       "      <td>NaN</td>\n",
       "      <td>NaN</td>\n",
       "      <td>NaN</td>\n",
       "      <td>...</td>\n",
       "      <td>NaN</td>\n",
       "      <td>NaN</td>\n",
       "      <td>NaN</td>\n",
       "      <td>NaN</td>\n",
       "      <td>NaN</td>\n",
       "      <td>NaN</td>\n",
       "      <td>63.0</td>\n",
       "      <td>165.0</td>\n",
       "      <td>0.0</td>\n",
       "      <td>11 times or more</td>\n",
       "    </tr>\n",
       "    <tr>\n",
       "      <th>3</th>\n",
       "      <td>93706.0</td>\n",
       "      <td>Very good</td>\n",
       "      <td>NaN</td>\n",
       "      <td>NaN</td>\n",
       "      <td>NaN</td>\n",
       "      <td>NaN</td>\n",
       "      <td>NaN</td>\n",
       "      <td>NaN</td>\n",
       "      <td>NaN</td>\n",
       "      <td>NaN</td>\n",
       "      <td>...</td>\n",
       "      <td>NaN</td>\n",
       "      <td>NaN</td>\n",
       "      <td>NaN</td>\n",
       "      <td>NaN</td>\n",
       "      <td>NaN</td>\n",
       "      <td>NaN</td>\n",
       "      <td>68.0</td>\n",
       "      <td>145.0</td>\n",
       "      <td>0.0</td>\n",
       "      <td>Never</td>\n",
       "    </tr>\n",
       "    <tr>\n",
       "      <th>4</th>\n",
       "      <td>93707.0</td>\n",
       "      <td>Good</td>\n",
       "      <td>NaN</td>\n",
       "      <td>NaN</td>\n",
       "      <td>NaN</td>\n",
       "      <td>NaN</td>\n",
       "      <td>NaN</td>\n",
       "      <td>NaN</td>\n",
       "      <td>NaN</td>\n",
       "      <td>NaN</td>\n",
       "      <td>...</td>\n",
       "      <td>NaN</td>\n",
       "      <td>NaN</td>\n",
       "      <td>NaN</td>\n",
       "      <td>NaN</td>\n",
       "      <td>NaN</td>\n",
       "      <td>NaN</td>\n",
       "      <td>NaN</td>\n",
       "      <td>NaN</td>\n",
       "      <td>NaN</td>\n",
       "      <td>NaN</td>\n",
       "    </tr>\n",
       "  </tbody>\n",
       "</table>\n",
       "<p>5 rows × 198 columns</p>\n",
       "</div>"
      ],
      "text/plain": [
       "      SEQN GeneralHealthCondition  EverBreastfedOrFedBreastmilk  \\\n",
       "0  93703.0                    NaN                           1.0   \n",
       "1  93704.0                    NaN                           1.0   \n",
       "2  93705.0                   Good                           NaN   \n",
       "3  93706.0              Very good                           NaN   \n",
       "4  93707.0                   Good                           NaN   \n",
       "\n",
       "   AgeStoppedBreastfeedingdays  AgeFirstFedFormuladays  \\\n",
       "0                        273.0                     1.0   \n",
       "1                         60.0                     3.0   \n",
       "2                          NaN                     NaN   \n",
       "3                          NaN                     NaN   \n",
       "4                          NaN                     NaN   \n",
       "\n",
       "   AgeStoppedReceivingFormuladays  AgeStartedOtherFoodbeverage  \\\n",
       "0                           365.0                        152.0   \n",
       "1                           365.0                        126.0   \n",
       "2                             NaN                          NaN   \n",
       "3                             NaN                          NaN   \n",
       "4                             NaN                          NaN   \n",
       "\n",
       "   AgeFirstFedMilkdays TypeOfMilkFirstFedWholeMilk  TypeOfMilkFirstFed2Milk  \\\n",
       "0                365.0       Whole or regular milk                      NaN   \n",
       "1                365.0       Whole or regular milk                      NaN   \n",
       "2                  NaN                         NaN                      NaN   \n",
       "3                  NaN                         NaN                      NaN   \n",
       "4                  NaN                         NaN                      NaN   \n",
       "\n",
       "   ...  DaysSmokedCigsDuringPast30Days  AvgCigarettesdayDuringPast30Days  \\\n",
       "0  ...                             NaN                               NaN   \n",
       "1  ...                             NaN                               NaN   \n",
       "2  ...                             NaN                               NaN   \n",
       "3  ...                             NaN                               NaN   \n",
       "4  ...                             NaN                               NaN   \n",
       "\n",
       "   TriedToQuitSmoking  TimesStoppedSmokingCigarettes  \\\n",
       "0                 NaN                            NaN   \n",
       "1                 NaN                            NaN   \n",
       "2                 NaN                            NaN   \n",
       "3                 NaN                            NaN   \n",
       "4                 NaN                            NaN   \n",
       "\n",
       "  HowLongWereYouAbleToStopSmoking UnitOfMeasureDayweekmonthyear_2_SMQ  \\\n",
       "0                             NaN                                 NaN   \n",
       "1                             NaN                                 NaN   \n",
       "2                             NaN                                 NaN   \n",
       "3                             NaN                                 NaN   \n",
       "4                             NaN                                 NaN   \n",
       "\n",
       "  CurrentSelfreportedHeightInches  CurrentSelfreportedWeightPounds  \\\n",
       "0                             NaN                              NaN   \n",
       "1                             NaN                              NaN   \n",
       "2                            63.0                            165.0   \n",
       "3                            68.0                            145.0   \n",
       "4                             NaN                              NaN   \n",
       "\n",
       "   TriedToLoseWeightInPastYear  TimesLost10LbsOrMoreToLoseWeight  \n",
       "0                          NaN                               NaN  \n",
       "1                          NaN                               NaN  \n",
       "2                          0.0                  11 times or more  \n",
       "3                          0.0                             Never  \n",
       "4                          NaN                               NaN  \n",
       "\n",
       "[5 rows x 198 columns]"
      ]
     },
     "execution_count": 1,
     "metadata": {},
     "output_type": "execute_result"
    }
   ],
   "source": [
    "import pandas as pd\n",
    "import numpy as np\n",
    "\n",
    "nhanes  = pd.read_csv('/Users/adamchow/Library/CloudStorage/Box-Box/UVA/MSDS/Fall 2025/DS 5030/Assignments/practice1/data/nhanes_data_17_18.csv')\n",
    "nhanes.head()"
   ]
  },
  {
   "cell_type": "markdown",
   "id": "b6ebdb7c",
   "metadata": {},
   "source": [
    "1. `HowOftenDoYouSnore`: There are a total of 2969 missing values in this column, with 4 main distinct responses:\n",
    "    1. `Frequently - 5 or more nights a week`\n",
    "    2. `Occasionally - 3-4 nights a week`\n",
    "    3. `Rarely - 1-2 nights a week`\n",
    "    4. `Never`\n",
    "\n",
    "2. `HowOftenFeelOverlySleepyDuringDay`: There are a total of 2550 missing values in this column, with 5 main distinct responses:\n",
    "    1. `Almost always - 16-30 times a month`\n",
    "    2. `Often- 5-15 times a month`\n",
    "    3. `Sometimes - 2-4 times a month`\n",
    "    4. `Rarely - 1 time a month`\n",
    "    5. `Never`"
   ]
  },
  {
   "cell_type": "code",
   "execution_count": 2,
   "id": "de5e7b94",
   "metadata": {},
   "outputs": [
    {
     "data": {
      "application/vnd.microsoft.datawrangler.viewer.v0+json": {
       "columns": [
        {
         "name": "Snore_na",
         "rawType": "bool",
         "type": "boolean"
        },
        {
         "name": "count",
         "rawType": "int64",
         "type": "integer"
        }
       ],
       "ref": "a662eca5-0946-4431-b815-8b8e13abd25e",
       "rows": [
        [
         "False",
         "5397"
        ],
        [
         "True",
         "2969"
        ]
       ],
       "shape": {
        "columns": 1,
        "rows": 2
       }
      },
      "text/plain": [
       "Snore_na\n",
       "False    5397\n",
       "True     2969\n",
       "Name: count, dtype: int64"
      ]
     },
     "execution_count": 2,
     "metadata": {},
     "output_type": "execute_result"
    }
   ],
   "source": [
    "nhanes['Snore_na'] = nhanes['HowOftenDoYouSnore'].isna() # Create a missing value dummy\n",
    "nhanes['Snore_na'].value_counts() # How many missings?"
   ]
  },
  {
   "cell_type": "code",
   "execution_count": 3,
   "id": "74282847",
   "metadata": {},
   "outputs": [
    {
     "data": {
      "application/vnd.microsoft.datawrangler.viewer.v0+json": {
       "columns": [
        {
         "name": "Sleepy_na",
         "rawType": "bool",
         "type": "boolean"
        },
        {
         "name": "count",
         "rawType": "int64",
         "type": "integer"
        }
       ],
       "ref": "d4d2479a-7cde-445e-bc76-11a69053c0ec",
       "rows": [
        [
         "False",
         "5816"
        ],
        [
         "True",
         "2550"
        ]
       ],
       "shape": {
        "columns": 1,
        "rows": 2
       }
      },
      "text/plain": [
       "Sleepy_na\n",
       "False    5816\n",
       "True     2550\n",
       "Name: count, dtype: int64"
      ]
     },
     "execution_count": 3,
     "metadata": {},
     "output_type": "execute_result"
    }
   ],
   "source": [
    "nhanes['Sleepy_na'] = nhanes['HowOftenFeelOverlySleepyDuringDay'].isna() # Create a missing value dummy\n",
    "nhanes['Sleepy_na'].value_counts() # How many missings?"
   ]
  },
  {
   "cell_type": "code",
   "execution_count": 4,
   "id": "46fa04b7",
   "metadata": {},
   "outputs": [
    {
     "data": {
      "application/vnd.microsoft.datawrangler.viewer.v0+json": {
       "columns": [
        {
         "name": "HowOftenDoYouSnore",
         "rawType": "object",
         "type": "string"
        },
        {
         "name": "Almost always - 16-30 times a month",
         "rawType": "int64",
         "type": "integer"
        },
        {
         "name": "Never",
         "rawType": "int64",
         "type": "integer"
        },
        {
         "name": "Often- 5-15 times a month",
         "rawType": "int64",
         "type": "integer"
        },
        {
         "name": "Rarely - 1 time a month",
         "rawType": "int64",
         "type": "integer"
        },
        {
         "name": "Sometimes - 2-4 times a month",
         "rawType": "int64",
         "type": "integer"
        }
       ],
       "ref": "841084de-065d-499e-895a-14027f40d731",
       "rows": [
        [
         "Frequently - 5 or more nights a week",
         "189",
         "201",
         "307",
         "310",
         "499"
        ],
        [
         "Never",
         "112",
         "344",
         "244",
         "406",
         "475"
        ],
        [
         "Occasionally - 3-4 nights a week",
         "69",
         "157",
         "170",
         "225",
         "395"
        ],
        [
         "Rarely - 1-2 nights a week",
         "93",
         "187",
         "219",
         "342",
         "447"
        ]
       ],
       "shape": {
        "columns": 5,
        "rows": 4
       }
      },
      "text/html": [
       "<div>\n",
       "<style scoped>\n",
       "    .dataframe tbody tr th:only-of-type {\n",
       "        vertical-align: middle;\n",
       "    }\n",
       "\n",
       "    .dataframe tbody tr th {\n",
       "        vertical-align: top;\n",
       "    }\n",
       "\n",
       "    .dataframe thead th {\n",
       "        text-align: right;\n",
       "    }\n",
       "</style>\n",
       "<table border=\"1\" class=\"dataframe\">\n",
       "  <thead>\n",
       "    <tr style=\"text-align: right;\">\n",
       "      <th>HowOftenFeelOverlySleepyDuringDay</th>\n",
       "      <th>Almost always - 16-30 times a month</th>\n",
       "      <th>Never</th>\n",
       "      <th>Often- 5-15 times a month</th>\n",
       "      <th>Rarely - 1 time a month</th>\n",
       "      <th>Sometimes - 2-4 times a month</th>\n",
       "    </tr>\n",
       "    <tr>\n",
       "      <th>HowOftenDoYouSnore</th>\n",
       "      <th></th>\n",
       "      <th></th>\n",
       "      <th></th>\n",
       "      <th></th>\n",
       "      <th></th>\n",
       "    </tr>\n",
       "  </thead>\n",
       "  <tbody>\n",
       "    <tr>\n",
       "      <th>Frequently - 5 or more nights a week</th>\n",
       "      <td>189</td>\n",
       "      <td>201</td>\n",
       "      <td>307</td>\n",
       "      <td>310</td>\n",
       "      <td>499</td>\n",
       "    </tr>\n",
       "    <tr>\n",
       "      <th>Never</th>\n",
       "      <td>112</td>\n",
       "      <td>344</td>\n",
       "      <td>244</td>\n",
       "      <td>406</td>\n",
       "      <td>475</td>\n",
       "    </tr>\n",
       "    <tr>\n",
       "      <th>Occasionally - 3-4 nights a week</th>\n",
       "      <td>69</td>\n",
       "      <td>157</td>\n",
       "      <td>170</td>\n",
       "      <td>225</td>\n",
       "      <td>395</td>\n",
       "    </tr>\n",
       "    <tr>\n",
       "      <th>Rarely - 1-2 nights a week</th>\n",
       "      <td>93</td>\n",
       "      <td>187</td>\n",
       "      <td>219</td>\n",
       "      <td>342</td>\n",
       "      <td>447</td>\n",
       "    </tr>\n",
       "  </tbody>\n",
       "</table>\n",
       "</div>"
      ],
      "text/plain": [
       "HowOftenFeelOverlySleepyDuringDay     Almost always - 16-30 times a month  \\\n",
       "HowOftenDoYouSnore                                                          \n",
       "Frequently - 5 or more nights a week                                  189   \n",
       "Never                                                                 112   \n",
       "Occasionally - 3-4 nights a week                                       69   \n",
       "Rarely - 1-2 nights a week                                             93   \n",
       "\n",
       "HowOftenFeelOverlySleepyDuringDay     Never  Often- 5-15 times a month  \\\n",
       "HowOftenDoYouSnore                                                       \n",
       "Frequently - 5 or more nights a week    201                        307   \n",
       "Never                                   344                        244   \n",
       "Occasionally - 3-4 nights a week        157                        170   \n",
       "Rarely - 1-2 nights a week              187                        219   \n",
       "\n",
       "HowOftenFeelOverlySleepyDuringDay     Rarely - 1 time a month  \\\n",
       "HowOftenDoYouSnore                                              \n",
       "Frequently - 5 or more nights a week                      310   \n",
       "Never                                                     406   \n",
       "Occasionally - 3-4 nights a week                          225   \n",
       "Rarely - 1-2 nights a week                                342   \n",
       "\n",
       "HowOftenFeelOverlySleepyDuringDay     Sometimes - 2-4 times a month  \n",
       "HowOftenDoYouSnore                                                   \n",
       "Frequently - 5 or more nights a week                            499  \n",
       "Never                                                           475  \n",
       "Occasionally - 3-4 nights a week                                395  \n",
       "Rarely - 1-2 nights a week                                      447  "
      ]
     },
     "execution_count": 4,
     "metadata": {},
     "output_type": "execute_result"
    }
   ],
   "source": [
    "pd.crosstab(nhanes['HowOftenDoYouSnore'], nhanes['HowOftenFeelOverlySleepyDuringDay']) # Raw cross tabulation"
   ]
  },
  {
   "cell_type": "markdown",
   "id": "6cef48e5",
   "metadata": {},
   "source": [
    "2. \n",
    "- Open the NHANES dataset\n",
    "- Find a categorical and numeric variable of interest (there are 198, and short descriptions are given in the `nhanes_meta_17_18.csv` file). Investigate their missing values (you don't have to focus on missing values for this analysis, but always be aware of them)\n",
    "- Make descriptive tables and grouped kernel density plots to represent the variation in your numeric $Y$ conditional on your categorical $X$\n",
    "- Discuss any interesting patterns (or lack of one) that you observe"
   ]
  },
  {
   "cell_type": "code",
   "execution_count": null,
   "id": "6a79de2d",
   "metadata": {},
   "outputs": [
    {
     "data": {
      "application/vnd.microsoft.datawrangler.viewer.v0+json": {
       "columns": [
        {
         "name": "index",
         "rawType": "int64",
         "type": "integer"
        },
        {
         "name": "GeneralHealthCondition",
         "rawType": "object",
         "type": "string"
        },
        {
         "name": "Mean",
         "rawType": "float64",
         "type": "float"
        },
        {
         "name": "Standard Deviation",
         "rawType": "float64",
         "type": "float"
        },
        {
         "name": "Count",
         "rawType": "int64",
         "type": "integer"
        },
        {
         "name": "Minimum",
         "rawType": "float64",
         "type": "float"
        },
        {
         "name": "25th Percentile",
         "rawType": "float64",
         "type": "float"
        },
        {
         "name": "Median",
         "rawType": "float64",
         "type": "float"
        },
        {
         "name": "75th Percentile",
         "rawType": "float64",
         "type": "float"
        },
        {
         "name": "Maximum",
         "rawType": "float64",
         "type": "float"
        }
       ],
       "ref": "d04a5bea-b634-4bdc-a2b5-f15c2f6e1f28",
       "rows": [
        [
         "0",
         "Excellent",
         "7.809619238476954",
         "1.4405305161580408",
         "499",
         "2.0",
         "7.0",
         "8.0",
         "8.5",
         "14.0"
        ],
        [
         "1",
         "Fair or",
         "7.593582887700535",
         "1.8226872840906054",
         "1122",
         "2.0",
         "6.5",
         "7.5",
         "9.0",
         "14.0"
        ],
        [
         "2",
         "Good",
         "7.59",
         "1.619485203846575",
         "2250",
         "2.0",
         "6.5",
         "7.5",
         "8.5",
         "14.0"
        ],
        [
         "3",
         "Poor?",
         "7.605590062111801",
         "2.158855265158046",
         "161",
         "2.0",
         "6.5",
         "7.5",
         "9.0",
         "13.0"
        ],
        [
         "4",
         "Very good",
         "7.663568773234201",
         "1.5593455944570895",
         "1345",
         "2.0",
         "7.0",
         "8.0",
         "8.5",
         "14.0"
        ]
       ],
       "shape": {
        "columns": 9,
        "rows": 5
       }
      },
      "text/html": [
       "<div>\n",
       "<style scoped>\n",
       "    .dataframe tbody tr th:only-of-type {\n",
       "        vertical-align: middle;\n",
       "    }\n",
       "\n",
       "    .dataframe tbody tr th {\n",
       "        vertical-align: top;\n",
       "    }\n",
       "\n",
       "    .dataframe thead th {\n",
       "        text-align: right;\n",
       "    }\n",
       "</style>\n",
       "<table border=\"1\" class=\"dataframe\">\n",
       "  <thead>\n",
       "    <tr style=\"text-align: right;\">\n",
       "      <th></th>\n",
       "      <th>GeneralHealthCondition</th>\n",
       "      <th>Mean</th>\n",
       "      <th>Standard Deviation</th>\n",
       "      <th>Count</th>\n",
       "      <th>Minimum</th>\n",
       "      <th>25th Percentile</th>\n",
       "      <th>Median</th>\n",
       "      <th>75th Percentile</th>\n",
       "      <th>Maximum</th>\n",
       "    </tr>\n",
       "  </thead>\n",
       "  <tbody>\n",
       "    <tr>\n",
       "      <th>0</th>\n",
       "      <td>Excellent</td>\n",
       "      <td>7.809619</td>\n",
       "      <td>1.440531</td>\n",
       "      <td>499</td>\n",
       "      <td>2.0</td>\n",
       "      <td>7.0</td>\n",
       "      <td>8.0</td>\n",
       "      <td>8.5</td>\n",
       "      <td>14.0</td>\n",
       "    </tr>\n",
       "    <tr>\n",
       "      <th>1</th>\n",
       "      <td>Fair or</td>\n",
       "      <td>7.593583</td>\n",
       "      <td>1.822687</td>\n",
       "      <td>1122</td>\n",
       "      <td>2.0</td>\n",
       "      <td>6.5</td>\n",
       "      <td>7.5</td>\n",
       "      <td>9.0</td>\n",
       "      <td>14.0</td>\n",
       "    </tr>\n",
       "    <tr>\n",
       "      <th>2</th>\n",
       "      <td>Good</td>\n",
       "      <td>7.590000</td>\n",
       "      <td>1.619485</td>\n",
       "      <td>2250</td>\n",
       "      <td>2.0</td>\n",
       "      <td>6.5</td>\n",
       "      <td>7.5</td>\n",
       "      <td>8.5</td>\n",
       "      <td>14.0</td>\n",
       "    </tr>\n",
       "    <tr>\n",
       "      <th>3</th>\n",
       "      <td>Poor?</td>\n",
       "      <td>7.605590</td>\n",
       "      <td>2.158855</td>\n",
       "      <td>161</td>\n",
       "      <td>2.0</td>\n",
       "      <td>6.5</td>\n",
       "      <td>7.5</td>\n",
       "      <td>9.0</td>\n",
       "      <td>13.0</td>\n",
       "    </tr>\n",
       "    <tr>\n",
       "      <th>4</th>\n",
       "      <td>Very good</td>\n",
       "      <td>7.663569</td>\n",
       "      <td>1.559346</td>\n",
       "      <td>1345</td>\n",
       "      <td>2.0</td>\n",
       "      <td>7.0</td>\n",
       "      <td>8.0</td>\n",
       "      <td>8.5</td>\n",
       "      <td>14.0</td>\n",
       "    </tr>\n",
       "  </tbody>\n",
       "</table>\n",
       "</div>"
      ],
      "text/plain": [
       "  GeneralHealthCondition      Mean  Standard Deviation  Count  Minimum  \\\n",
       "0              Excellent  7.809619            1.440531    499      2.0   \n",
       "1                Fair or  7.593583            1.822687   1122      2.0   \n",
       "2                   Good  7.590000            1.619485   2250      2.0   \n",
       "3                  Poor?  7.605590            2.158855    161      2.0   \n",
       "4              Very good  7.663569            1.559346   1345      2.0   \n",
       "\n",
       "   25th Percentile  Median  75th Percentile  Maximum  \n",
       "0              7.0     8.0              8.5     14.0  \n",
       "1              6.5     7.5              9.0     14.0  \n",
       "2              6.5     7.5              8.5     14.0  \n",
       "3              6.5     7.5              9.0     13.0  \n",
       "4              7.0     8.0              8.5     14.0  "
      ]
     },
     "metadata": {},
     "output_type": "display_data"
    },
    {
     "data": {
      "image/png": "[encoded data removed]",
      "text/plain": [
       "<Figure size 640x480 with 1 Axes>"
      ]
     },
     "metadata": {},
     "output_type": "display_data"
    }
   ],
   "source": [
    "# Categorical: `GeneralHealthCondition`\n",
    "# Numerical: `SLeepHoursWeekdaysOrWorkdays`\n",
    "\n",
    "# Descriptive Tables of Numeric on Categorical\n",
    "grouped_data = (\n",
    "    nhanes.groupby('GeneralHealthCondition')['SleepHoursWeekdaysOrWorkdays']\n",
    "    .agg([\n",
    "        ('Mean', 'mean'),\n",
    "        ('Standard Deviation', 'std'),\n",
    "        ('Count', 'count'),\n",
    "        ('Minimum', 'min'),\n",
    "        ('25th Percentile', lambda x: x.quantile(0.25)),\n",
    "        ('Median', 'median'),\n",
    "        ('75th Percentile', lambda x: x.quantile(0.75)),\n",
    "        ('Maximum', 'max')\n",
    "    ])\n",
    "    .reset_index()\n",
    "    .dropna()\n",
    ")\n",
    "\n",
    "display(grouped_data)\n",
    "\n",
    "# KDE of Y conditional on X\n",
    "import seaborn as sns\n",
    "import matplotlib.pyplot as plt\n",
    "sns.kdeplot(x = nhanes['SleepHoursWeekdaysOrWorkdays'], hue = nhanes['GeneralHealthCondition'])\n",
    "plt.xlabel('Sleep Hours on Weekdays or Workdays')\n",
    "plt.title('Distribution of Sleep Hours on Weekdays or Workdays by General Health Condition')\n",
    "plt.show()"
   ]
  },
  {
   "cell_type": "markdown",
   "id": "93ffe7bb",
   "metadata": {},
   "source": [
    "I chose these two variables, because I thought there would be a difference in the overall distribution of sleep people get basedon their General Health Conditions, but it turns out from the table and the KDE that this is not true at all. There are slightl differences, but everyone is overall very normally distributed overall, despite the GHC of the person. Every GHC category shows roughly a 7.6 hour mean with around 1.7 hours of standard deviation."
   ]
  },
  {
   "cell_type": "markdown",
   "id": "4952e789",
   "metadata": {},
   "source": [
    "3. \n",
    "We showed that the mean and median could be discovered by minimizing various kinds of loss functions; this is what machine learning is. To make a prediction $\\hat{y}(z)$ of $Y$ when $X=z$, minimize the mean squared error:\n",
    "$$\n",
    "MSE(\\hat{y}(z)) = \\dfrac{1}{N} \\sum_{i=1}^N \\left\\lbrace y_i - \\hat{y}(z) \\right\\rbrace^2 \\frac{1}{h}k\\left(\\frac{z-x_i}{h}\\right)\n",
    "$$\n",
    "Show that the solution to this problem is the LCLS/Naradaya-Watson estimator."
   ]
  },
  {
   "cell_type": "markdown",
   "id": "4a08ad03",
   "metadata": {},
   "source": [
    "# Derivation:\n",
    "\n",
    "\n",
    "**1**: Treat $\\hat y(z)$ as a scalar parameter; differentiate and set derivative equal to zero:\n",
    "\n",
    "$$\n",
    "\\frac{\\partial}{\\partial \\hat y(z)}\\mathrm{MSE}(\\hat y(z))\n",
    "= \\frac{1}{N}\\sum_{i=1}^N 2\\bigl(\\hat y(z)-y_i\\bigr)\\,\\frac{1}{h}k\\!\\Bigl(\\frac{z-x_i}{h}\\Bigr)=0.\n",
    "$$\n",
    "\n",
    "Remove the constant factor $2/(N h)$ (nonzero) to get\n",
    "\n",
    "$$\n",
    "\\sum_{i=1}^N \\bigl(\\hat y(z)-y_i\\bigr)\\,k\\!\\Bigl(\\frac{z-x_i}{h}\\Bigr)=0.\n",
    "$$\n",
    "\n",
    "Solve for $\\hat y(z)$. First, expand the first term:\n",
    "\n",
    "$$\n",
    "\\hat y(z)\\sum_{i=1}^N k\\!\\Bigl(\\frac{z-x_i}{h}\\Bigr)\n",
    "-\\sum_{i=1}^N y_i\\,k\\!\\Bigl(\\frac{z-x_i}{h}\\Bigr)=0.\n",
    "$$\n",
    "\n",
    "Isolate $\\hat y(z)$:\n",
    "\n",
    "$$\n",
    "\\hat y(z)\n",
    "= \\frac{\\sum_{i=1}^N y_i\\,k\\!\\bigl(\\frac{z-x_i}{h}\\bigr)}\n",
    "{\\sum_{i=1}^N k\\!\\bigl(\\frac{z-x_i}{h}\\bigr)}.\n",
    "$$"
   ]
  },
  {
   "cell_type": "markdown",
   "id": "98884d76",
   "metadata": {},
   "source": [
    "4. \n",
    "- Write a class or set of functions that implement the LCLS/Naradaya-Watson estimator, using the Silverman plug-in estimate for the conditioning variable $X$ as the bandwidth.\n",
    "- From one of the course data sets, find two numeric variables of interest, analyze their relationship with the the LCLS/Naradaya-Watson estimator, and discuss your results."
   ]
  },
  {
   "cell_type": "markdown",
   "id": "0534c110",
   "metadata": {},
   "source": [
    "5. \n",
    "- In any of the available data sets, investigate the relationships between pairs of variables $(X,Y)$ with a scatterplot and CEF (for example, price on area)\n",
    "- Is this relationship plausibly causal, or are there missing variables that might explain at least part of the relationship between your variables? These can be \"conceptual\" rather than \"practical\"; for example, 'talent' or 'grit' probably explain education outcomes, but are almost impossible to measure. We are asking whether there are hypothetical **threats to causal identification** of the effect of $X$ on $Y$.\n",
    "- Explain how, regardless of the threat to causal identification, you can still use your model to predict $Y$ given $X$, as long as you don't intervene in the system to control the outcome"
   ]
  },
  {
   "cell_type": "code",
   "execution_count": 15,
   "id": "140ad160",
   "metadata": {},
   "outputs": [
    {
     "data": {
      "application/vnd.microsoft.datawrangler.viewer.v0+json": {
       "columns": [
        {
         "name": "index",
         "rawType": "int64",
         "type": "integer"
        },
        {
         "name": "index",
         "rawType": "int64",
         "type": "integer"
        },
        {
         "name": "unitid",
         "rawType": "int64",
         "type": "integer"
        },
        {
         "name": "chronname",
         "rawType": "object",
         "type": "string"
        },
        {
         "name": "city",
         "rawType": "object",
         "type": "string"
        },
        {
         "name": "state",
         "rawType": "object",
         "type": "string"
        },
        {
         "name": "level",
         "rawType": "object",
         "type": "string"
        },
        {
         "name": "control",
         "rawType": "object",
         "type": "string"
        },
        {
         "name": "basic",
         "rawType": "object",
         "type": "string"
        },
        {
         "name": "hbcu",
         "rawType": "object",
         "type": "unknown"
        },
        {
         "name": "flagship",
         "rawType": "object",
         "type": "unknown"
        },
        {
         "name": "long_x",
         "rawType": "float64",
         "type": "float"
        },
        {
         "name": "lat_y",
         "rawType": "float64",
         "type": "float"
        },
        {
         "name": "site",
         "rawType": "object",
         "type": "string"
        },
        {
         "name": "student_count",
         "rawType": "int64",
         "type": "integer"
        },
        {
         "name": "awards_per_value",
         "rawType": "float64",
         "type": "float"
        },
        {
         "name": "awards_per_state_value",
         "rawType": "float64",
         "type": "float"
        },
        {
         "name": "awards_per_natl_value",
         "rawType": "float64",
         "type": "float"
        },
        {
         "name": "exp_award_value",
         "rawType": "int64",
         "type": "integer"
        },
        {
         "name": "exp_award_state_value",
         "rawType": "int64",
         "type": "integer"
        },
        {
         "name": "exp_award_natl_value",
         "rawType": "int64",
         "type": "integer"
        },
        {
         "name": "exp_award_percentile",
         "rawType": "int64",
         "type": "integer"
        },
        {
         "name": "ft_pct",
         "rawType": "float64",
         "type": "float"
        },
        {
         "name": "fte_value",
         "rawType": "int64",
         "type": "integer"
        },
        {
         "name": "fte_percentile",
         "rawType": "int64",
         "type": "integer"
        },
        {
         "name": "med_sat_value",
         "rawType": "float64",
         "type": "float"
        },
        {
         "name": "med_sat_percentile",
         "rawType": "float64",
         "type": "float"
        },
        {
         "name": "aid_value",
         "rawType": "float64",
         "type": "float"
        },
        {
         "name": "aid_percentile",
         "rawType": "float64",
         "type": "float"
        },
        {
         "name": "endow_value",
         "rawType": "float64",
         "type": "float"
        },
        {
         "name": "endow_percentile",
         "rawType": "float64",
         "type": "float"
        },
        {
         "name": "grad_100_value",
         "rawType": "float64",
         "type": "float"
        },
        {
         "name": "grad_100_percentile",
         "rawType": "float64",
         "type": "float"
        },
        {
         "name": "grad_150_value",
         "rawType": "float64",
         "type": "float"
        },
        {
         "name": "grad_150_percentile",
         "rawType": "float64",
         "type": "float"
        },
        {
         "name": "pell_value",
         "rawType": "float64",
         "type": "float"
        },
        {
         "name": "pell_percentile",
         "rawType": "float64",
         "type": "float"
        },
        {
         "name": "retain_value",
         "rawType": "float64",
         "type": "float"
        },
        {
         "name": "retain_percentile",
         "rawType": "float64",
         "type": "float"
        },
        {
         "name": "ft_fac_value",
         "rawType": "float64",
         "type": "float"
        },
        {
         "name": "ft_fac_percentile",
         "rawType": "float64",
         "type": "float"
        },
        {
         "name": "vsa_year",
         "rawType": "float64",
         "type": "float"
        },
        {
         "name": "vsa_grad_after4_first",
         "rawType": "float64",
         "type": "float"
        },
        {
         "name": "vsa_grad_elsewhere_after4_first",
         "rawType": "float64",
         "type": "float"
        },
        {
         "name": "vsa_enroll_after4_first",
         "rawType": "float64",
         "type": "float"
        },
        {
         "name": "vsa_enroll_elsewhere_after4_first",
         "rawType": "float64",
         "type": "float"
        },
        {
         "name": "vsa_grad_after6_first",
         "rawType": "float64",
         "type": "float"
        },
        {
         "name": "vsa_grad_elsewhere_after6_first",
         "rawType": "float64",
         "type": "float"
        },
        {
         "name": "vsa_enroll_after6_first",
         "rawType": "float64",
         "type": "float"
        },
        {
         "name": "vsa_enroll_elsewhere_after6_first",
         "rawType": "float64",
         "type": "float"
        },
        {
         "name": "vsa_grad_after4_transfer",
         "rawType": "float64",
         "type": "float"
        },
        {
         "name": "vsa_grad_elsewhere_after4_transfer",
         "rawType": "float64",
         "type": "float"
        },
        {
         "name": "vsa_enroll_after4_transfer",
         "rawType": "float64",
         "type": "float"
        },
        {
         "name": "vsa_enroll_elsewhere_after4_transfer",
         "rawType": "float64",
         "type": "float"
        },
        {
         "name": "vsa_grad_after6_transfer",
         "rawType": "float64",
         "type": "float"
        },
        {
         "name": "vsa_grad_elsewhere_after6_transfer",
         "rawType": "float64",
         "type": "float"
        },
        {
         "name": "vsa_enroll_after6_transfer",
         "rawType": "float64",
         "type": "float"
        },
        {
         "name": "vsa_enroll_elsewhere_after6_transfer",
         "rawType": "float64",
         "type": "float"
        },
        {
         "name": "similar",
         "rawType": "object",
         "type": "string"
        },
        {
         "name": "state_sector_ct",
         "rawType": "int64",
         "type": "integer"
        },
        {
         "name": "carnegie_ct",
         "rawType": "int64",
         "type": "integer"
        },
        {
         "name": "counted_pct",
         "rawType": "object",
         "type": "string"
        },
        {
         "name": "nicknames",
         "rawType": "object",
         "type": "unknown"
        },
        {
         "name": "cohort_size",
         "rawType": "float64",
         "type": "float"
        }
       ],
       "ref": "d6f2d070-08ad-4528-9d0d-31d43a9cb275",
       "rows": [
        [
         "0",
         "0",
         "100654",
         "Alabama A&M University",
         "Normal",
         "Alabama",
         "4-year",
         "Public",
         "Masters Colleges and Universities--larger programs",
         "X",
         null,
         "-86.568502",
         "34.783368",
         "www.aamu.edu/",
         "4051",
         "14.2",
         "18.8",
         "21.5",
         "105331",
         "75743",
         "66436",
         "90",
         "93.8",
         "3906",
         "33",
         "823.0",
         "0.0",
         "7142.0",
         "72.0",
         null,
         null,
         "10.0",
         "15.0",
         "29.1",
         "14.0",
         "71.2",
         "98.0",
         "63.1",
         "17.0",
         "82.8",
         "89.0",
         "2010.0",
         "14.7",
         "2.0",
         "36.5",
         "16.1",
         "33.0",
         "5.3",
         "12.5",
         "14.6",
         "15.7",
         "1.5",
         "40.9",
         "17.2",
         "36.4",
         "5.6",
         "17.2",
         "11.1",
         "232937|100724|405997|113607|139533|144005|228501|101480|131876|144759|419509|176479|243197|228529|372222|228431|206695|139366|159993|224147",
         "13",
         "386",
         "99.7|07",
         null,
         "882.0"
        ],
        [
         "1",
         "1",
         "100663",
         "University of Alabama at Birmingham",
         "Birmingham",
         "Alabama",
         "4-year",
         "Public",
         "Research Universities--very high research activity",
         null,
         null,
         "-86.80917",
         "33.50223",
         "www.uab.edu",
         "11502",
         "20.9",
         "18.8",
         "21.5",
         "136546",
         "75743",
         "66436",
         "97",
         "72.7",
         "10032",
         "67",
         "1146.0",
         "84.0",
         "6088.0",
         "50.0",
         "24136.0",
         "93.0",
         "29.4",
         "67.0",
         "53.5",
         "66.0",
         "35.1",
         "39.0",
         "80.2",
         "70.0",
         "92.4",
         "98.0",
         "2011.0",
         "22.3",
         "2.9",
         "34.2",
         "19.2",
         "42.6",
         "10.5",
         "7.9",
         "13.1",
         null,
         null,
         null,
         null,
         null,
         null,
         null,
         null,
         "196060|180461|201885|145600|209542|236939|126818|230764|104151|104179|157085|171100|153603|141574|155317|110714|137351|126562|243780|196088",
         "13",
         "106",
         "56.0|07",
         "UAB",
         "1376.0"
        ],
        [
         "2",
         "2",
         "100690",
         "Amridge University",
         "Montgomery",
         "Alabama",
         "4-year",
         "Private not-for-profit",
         "Baccalaureate Colleges--Arts & Sciences",
         null,
         null,
         "-86.17401",
         "32.362609",
         "www.amridgeuniversity.edu",
         "322",
         "29.9",
         "17.8",
         "22.5",
         "58414",
         "92268",
         "101725",
         "30",
         "62.7",
         "294",
         "12",
         null,
         null,
         "2540.0",
         "1.0",
         "302.0",
         "1.0",
         "0.0",
         "0.0",
         "66.7",
         "72.0",
         "68.4",
         "91.0",
         "37.5",
         "2.0",
         "67.2",
         "71.0",
         null,
         null,
         null,
         null,
         null,
         null,
         null,
         null,
         null,
         null,
         null,
         null,
         null,
         null,
         null,
         null,
         null,
         "217925|441511|205124|247825|197647|221856|135364|117575|164207|193070|199315|166054|367893|183804|439701|193052|197744|193247|137777|176789",
         "16",
         "252",
         "100.0|07",
         null,
         "3.0"
        ],
        [
         "3",
         "3",
         "100706",
         "University of Alabama at Huntsville",
         "Huntsville",
         "Alabama",
         "4-year",
         "Public",
         "Research Universities--very high research activity",
         null,
         null,
         "-86.63842",
         "34.722818",
         "www.uah.edu",
         "5696",
         "20.9",
         "18.8",
         "21.5",
         "64418",
         "75743",
         "66436",
         "61",
         "74.4",
         "5000",
         "40",
         "1180.0",
         "89.0",
         "6647.0",
         "63.0",
         "11502.0",
         "81.0",
         "16.5",
         "34.0",
         "48.4",
         "54.0",
         "32.8",
         "32.0",
         "81.0",
         "72.0",
         "65.5",
         "56.0",
         "2010.0",
         "12.8",
         "4.7",
         "42.8",
         "18.3",
         "43.0",
         "14.5",
         "10.2",
         "11.7",
         "0.0",
         "0.0",
         "0.0",
         "0.0",
         "0.0",
         "0.0",
         "0.0",
         "0.0",
         "232186|133881|196103|196413|207388|171128|190044|178402|185828|202480|183044|132903|163268|223232|157289|100858|216339|230728|165334|204024",
         "13",
         "106",
         "43.1|07",
         "UAH",
         "759.0"
        ],
        [
         "4",
         "4",
         "100724",
         "Alabama State University",
         "Montgomery",
         "Alabama",
         "4-year",
         "Public",
         "Masters Colleges and Universities--larger programs",
         "X",
         null,
         "-86.295677",
         "32.364317",
         "www.alasu.edu/email/index.aspx",
         "5356",
         "11.6",
         "18.8",
         "21.5",
         "132407",
         "75743",
         "66436",
         "96",
         "91.0",
         "5035",
         "41",
         "830.0",
         "1.0",
         "7256.0",
         "74.0",
         "13202.0",
         "84.0",
         "8.8",
         "11.0",
         "25.2",
         "9.0",
         "82.7",
         "100.0",
         "62.2",
         "15.0",
         "67.0",
         "58.0",
         null,
         null,
         null,
         null,
         null,
         null,
         null,
         null,
         null,
         null,
         null,
         null,
         null,
         null,
         null,
         null,
         null,
         "100654|232937|242617|243197|144005|241739|235422|243601|113607|405997|139533|190114|228501|131876|101480|144759|419509|176479|228529|372222",
         "13",
         "386",
         "88.0|07",
         "ASU",
         "1351.0"
        ]
       ],
       "shape": {
        "columns": 63,
        "rows": 5
       }
      },
      "text/html": [
       "<div>\n",
       "<style scoped>\n",
       "    .dataframe tbody tr th:only-of-type {\n",
       "        vertical-align: middle;\n",
       "    }\n",
       "\n",
       "    .dataframe tbody tr th {\n",
       "        vertical-align: top;\n",
       "    }\n",
       "\n",
       "    .dataframe thead th {\n",
       "        text-align: right;\n",
       "    }\n",
       "</style>\n",
       "<table border=\"1\" class=\"dataframe\">\n",
       "  <thead>\n",
       "    <tr style=\"text-align: right;\">\n",
       "      <th></th>\n",
       "      <th>index</th>\n",
       "      <th>unitid</th>\n",
       "      <th>chronname</th>\n",
       "      <th>city</th>\n",
       "      <th>state</th>\n",
       "      <th>level</th>\n",
       "      <th>control</th>\n",
       "      <th>basic</th>\n",
       "      <th>hbcu</th>\n",
       "      <th>flagship</th>\n",
       "      <th>...</th>\n",
       "      <th>vsa_grad_after6_transfer</th>\n",
       "      <th>vsa_grad_elsewhere_after6_transfer</th>\n",
       "      <th>vsa_enroll_after6_transfer</th>\n",
       "      <th>vsa_enroll_elsewhere_after6_transfer</th>\n",
       "      <th>similar</th>\n",
       "      <th>state_sector_ct</th>\n",
       "      <th>carnegie_ct</th>\n",
       "      <th>counted_pct</th>\n",
       "      <th>nicknames</th>\n",
       "      <th>cohort_size</th>\n",
       "    </tr>\n",
       "  </thead>\n",
       "  <tbody>\n",
       "    <tr>\n",
       "      <th>0</th>\n",
       "      <td>0</td>\n",
       "      <td>100654</td>\n",
       "      <td>Alabama A&amp;M University</td>\n",
       "      <td>Normal</td>\n",
       "      <td>Alabama</td>\n",
       "      <td>4-year</td>\n",
       "      <td>Public</td>\n",
       "      <td>Masters Colleges and Universities--larger prog...</td>\n",
       "      <td>X</td>\n",
       "      <td>NaN</td>\n",
       "      <td>...</td>\n",
       "      <td>36.4</td>\n",
       "      <td>5.6</td>\n",
       "      <td>17.2</td>\n",
       "      <td>11.1</td>\n",
       "      <td>232937|100724|405997|113607|139533|144005|2285...</td>\n",
       "      <td>13</td>\n",
       "      <td>386</td>\n",
       "      <td>99.7|07</td>\n",
       "      <td>NaN</td>\n",
       "      <td>882.0</td>\n",
       "    </tr>\n",
       "    <tr>\n",
       "      <th>1</th>\n",
       "      <td>1</td>\n",
       "      <td>100663</td>\n",
       "      <td>University of Alabama at Birmingham</td>\n",
       "      <td>Birmingham</td>\n",
       "      <td>Alabama</td>\n",
       "      <td>4-year</td>\n",
       "      <td>Public</td>\n",
       "      <td>Research Universities--very high research acti...</td>\n",
       "      <td>NaN</td>\n",
       "      <td>NaN</td>\n",
       "      <td>...</td>\n",
       "      <td>NaN</td>\n",
       "      <td>NaN</td>\n",
       "      <td>NaN</td>\n",
       "      <td>NaN</td>\n",
       "      <td>196060|180461|201885|145600|209542|236939|1268...</td>\n",
       "      <td>13</td>\n",
       "      <td>106</td>\n",
       "      <td>56.0|07</td>\n",
       "      <td>UAB</td>\n",
       "      <td>1376.0</td>\n",
       "    </tr>\n",
       "    <tr>\n",
       "      <th>2</th>\n",
       "      <td>2</td>\n",
       "      <td>100690</td>\n",
       "      <td>Amridge University</td>\n",
       "      <td>Montgomery</td>\n",
       "      <td>Alabama</td>\n",
       "      <td>4-year</td>\n",
       "      <td>Private not-for-profit</td>\n",
       "      <td>Baccalaureate Colleges--Arts &amp; Sciences</td>\n",
       "      <td>NaN</td>\n",
       "      <td>NaN</td>\n",
       "      <td>...</td>\n",
       "      <td>NaN</td>\n",
       "      <td>NaN</td>\n",
       "      <td>NaN</td>\n",
       "      <td>NaN</td>\n",
       "      <td>217925|441511|205124|247825|197647|221856|1353...</td>\n",
       "      <td>16</td>\n",
       "      <td>252</td>\n",
       "      <td>100.0|07</td>\n",
       "      <td>NaN</td>\n",
       "      <td>3.0</td>\n",
       "    </tr>\n",
       "    <tr>\n",
       "      <th>3</th>\n",
       "      <td>3</td>\n",
       "      <td>100706</td>\n",
       "      <td>University of Alabama at Huntsville</td>\n",
       "      <td>Huntsville</td>\n",
       "      <td>Alabama</td>\n",
       "      <td>4-year</td>\n",
       "      <td>Public</td>\n",
       "      <td>Research Universities--very high research acti...</td>\n",
       "      <td>NaN</td>\n",
       "      <td>NaN</td>\n",
       "      <td>...</td>\n",
       "      <td>0.0</td>\n",
       "      <td>0.0</td>\n",
       "      <td>0.0</td>\n",
       "      <td>0.0</td>\n",
       "      <td>232186|133881|196103|196413|207388|171128|1900...</td>\n",
       "      <td>13</td>\n",
       "      <td>106</td>\n",
       "      <td>43.1|07</td>\n",
       "      <td>UAH</td>\n",
       "      <td>759.0</td>\n",
       "    </tr>\n",
       "    <tr>\n",
       "      <th>4</th>\n",
       "      <td>4</td>\n",
       "      <td>100724</td>\n",
       "      <td>Alabama State University</td>\n",
       "      <td>Montgomery</td>\n",
       "      <td>Alabama</td>\n",
       "      <td>4-year</td>\n",
       "      <td>Public</td>\n",
       "      <td>Masters Colleges and Universities--larger prog...</td>\n",
       "      <td>X</td>\n",
       "      <td>NaN</td>\n",
       "      <td>...</td>\n",
       "      <td>NaN</td>\n",
       "      <td>NaN</td>\n",
       "      <td>NaN</td>\n",
       "      <td>NaN</td>\n",
       "      <td>100654|232937|242617|243197|144005|241739|2354...</td>\n",
       "      <td>13</td>\n",
       "      <td>386</td>\n",
       "      <td>88.0|07</td>\n",
       "      <td>ASU</td>\n",
       "      <td>1351.0</td>\n",
       "    </tr>\n",
       "  </tbody>\n",
       "</table>\n",
       "<p>5 rows × 63 columns</p>\n",
       "</div>"
      ],
      "text/plain": [
       "   index  unitid                            chronname        city    state  \\\n",
       "0      0  100654               Alabama A&M University      Normal  Alabama   \n",
       "1      1  100663  University of Alabama at Birmingham  Birmingham  Alabama   \n",
       "2      2  100690                   Amridge University  Montgomery  Alabama   \n",
       "3      3  100706  University of Alabama at Huntsville  Huntsville  Alabama   \n",
       "4      4  100724             Alabama State University  Montgomery  Alabama   \n",
       "\n",
       "    level                 control  \\\n",
       "0  4-year                  Public   \n",
       "1  4-year                  Public   \n",
       "2  4-year  Private not-for-profit   \n",
       "3  4-year                  Public   \n",
       "4  4-year                  Public   \n",
       "\n",
       "                                               basic hbcu flagship  ...  \\\n",
       "0  Masters Colleges and Universities--larger prog...    X      NaN  ...   \n",
       "1  Research Universities--very high research acti...  NaN      NaN  ...   \n",
       "2            Baccalaureate Colleges--Arts & Sciences  NaN      NaN  ...   \n",
       "3  Research Universities--very high research acti...  NaN      NaN  ...   \n",
       "4  Masters Colleges and Universities--larger prog...    X      NaN  ...   \n",
       "\n",
       "   vsa_grad_after6_transfer  vsa_grad_elsewhere_after6_transfer  \\\n",
       "0                      36.4                                 5.6   \n",
       "1                       NaN                                 NaN   \n",
       "2                       NaN                                 NaN   \n",
       "3                       0.0                                 0.0   \n",
       "4                       NaN                                 NaN   \n",
       "\n",
       "  vsa_enroll_after6_transfer  vsa_enroll_elsewhere_after6_transfer  \\\n",
       "0                       17.2                                  11.1   \n",
       "1                        NaN                                   NaN   \n",
       "2                        NaN                                   NaN   \n",
       "3                        0.0                                   0.0   \n",
       "4                        NaN                                   NaN   \n",
       "\n",
       "                                             similar  state_sector_ct  \\\n",
       "0  232937|100724|405997|113607|139533|144005|2285...               13   \n",
       "1  196060|180461|201885|145600|209542|236939|1268...               13   \n",
       "2  217925|441511|205124|247825|197647|221856|1353...               16   \n",
       "3  232186|133881|196103|196413|207388|171128|1900...               13   \n",
       "4  100654|232937|242617|243197|144005|241739|2354...               13   \n",
       "\n",
       "   carnegie_ct  counted_pct  nicknames  cohort_size  \n",
       "0          386      99.7|07        NaN        882.0  \n",
       "1          106      56.0|07        UAB       1376.0  \n",
       "2          252     100.0|07        NaN          3.0  \n",
       "3          106      43.1|07        UAH        759.0  \n",
       "4          386      88.0|07        ASU       1351.0  \n",
       "\n",
       "[5 rows x 63 columns]"
      ]
     },
     "execution_count": 15,
     "metadata": {},
     "output_type": "execute_result"
    }
   ],
   "source": [
    "college  = pd.read_csv('/Users/adamchow/Library/CloudStorage/Box-Box/UVA/MSDS/Fall 2025/DS 5030/Assignments/practice1/data/college_completion.csv')\n",
    "college.head()"
   ]
  },
  {
   "cell_type": "code",
   "execution_count": 19,
   "id": "1fec12a0",
   "metadata": {},
   "outputs": [
    {
     "name": "stdout",
     "output_type": "stream",
     "text": [
      "Correlation: -0.19500662171060007\n"
     ]
    },
    {
     "data": {
      "image/png": "[encoded data removed]",
      "text/plain": [
       "<Figure size 640x480 with 1 Axes>"
      ]
     },
     "metadata": {},
     "output_type": "display_data"
    }
   ],
   "source": [
    "import seaborn as sns\n",
    "import matplotlib.pyplot as plt\n",
    "from scipy.stats import pearsonr\n",
    "\n",
    "# Scatterplot\n",
    "sns.scatterplot(x='student_count', y='awards_per_value', data=college, alpha=0.6, label='data')\n",
    "\n",
    "# Compute conditional expectation function (CEF)\n",
    "means = (\n",
    "    college\n",
    "    .loc[:, ['student_count', 'awards_per_value']]\n",
    "    .groupby('student_count')\n",
    "    .mean()\n",
    "    .reset_index()\n",
    ")\n",
    "\n",
    "# CEF line\n",
    "sns.lineplot(data=means, x='student_count', y='awards_per_value',\n",
    "             color='orange', label='$\\\\widehat{\\\\mathbb{E}}[Y|X=x]$')\n",
    "\n",
    "# Correlation\n",
    "correlation = pearsonr(college['student_count'], college['awards_per_value'])[0]\n",
    "print(\"Correlation:\", correlation)\n",
    "\n",
    "plt.show()\n"
   ]
  },
  {
   "cell_type": "markdown",
   "id": "716aa922",
   "metadata": {},
   "source": [
    "The relationship between these two variables, `student_count` and `awards_per_value`, is very unlikely to be plausible. Without any other variables to provide context, we cannot draw any comcluisons about an institution's `awards_per_value` purely based on their `student_count` alone. Some of the main missing facotrs that we are failing to consider are probably the resources and alumni network of the institution, the funding per student, and program/major focuses like engineering or medical fields."
   ]
  },
  {
   "cell_type": "markdown",
   "id": "136a59c8",
   "metadata": {},
   "source": [
    "Even though these two variables don;t explicitly have a direct casual relationship, we can still use `studnet_count` to predict `awards_per_value` because there is a relationship, even if it is very weak. It's important that we don't intervene in the system to control the outcome because prediction models are only valid for forecasting future outcomes based on previous observations, not for manipulation. "
   ]
  }
 ],
 "metadata": {
  "kernelspec": {
   "display_name": "Python 3",
   "language": "python",
   "name": "python3"
  },
  "language_info": {
   "codemirror_mode": {
    "name": "ipython",
    "version": 3
   },
   "file_extension": ".py",
   "mimetype": "text/x-python",
   "name": "python",
   "nbconvert_exporter": "python",
   "pygments_lexer": "ipython3",
   "version": "3.11.13"
  }
 },
 "nbformat": 4,
 "nbformat_minor": 5
}
