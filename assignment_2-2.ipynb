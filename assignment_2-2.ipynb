{
 "cells": [
  {
   "cell_type": "markdown",
   "id": "87b91d83",
   "metadata": {},
   "source": [
    "# Assignment 2\n",
    "### Understanding Uncertainty\n",
    "### Due 9/12"
   ]
  },
  {
   "cell_type": "markdown",
   "id": "380e339f",
   "metadata": {},
   "source": [
    "1. 'State Bottle Retail' is the price at which the bottle is sold, while 'State Bottle Cost' is the price the state pays for a bottle.\n",
    "- How do you define the most profitable item? Why? Explain your thinking.\n",
    "- Use `.groupby` calculations to determine the most profitable liquors sold in Iowa.\n",
    "- Make a plot of the top liquors."
   ]
  },
  {
   "cell_type": "code",
   "execution_count": 1,
   "id": "604bca71",
   "metadata": {},
   "outputs": [
    {
     "data": {
      "application/vnd.microsoft.datawrangler.viewer.v0+json": {
       "columns": [
        {
         "name": "index",
         "rawType": "int64",
         "type": "integer"
        },
        {
         "name": "Invoice/Item Number",
         "rawType": "object",
         "type": "string"
        },
        {
         "name": "Date",
         "rawType": "object",
         "type": "string"
        },
        {
         "name": "Store Number",
         "rawType": "int64",
         "type": "integer"
        },
        {
         "name": "Store Name",
         "rawType": "object",
         "type": "string"
        },
        {
         "name": "Zip Code",
         "rawType": "object",
         "type": "string"
        },
        {
         "name": "Category Name",
         "rawType": "object",
         "type": "string"
        },
        {
         "name": "Vendor Name",
         "rawType": "object",
         "type": "string"
        },
        {
         "name": "Item Number",
         "rawType": "int64",
         "type": "integer"
        },
        {
         "name": "Item Description",
         "rawType": "object",
         "type": "string"
        },
        {
         "name": "Bottle Volume (ml)",
         "rawType": "int64",
         "type": "integer"
        },
        {
         "name": "State Bottle Cost",
         "rawType": "float64",
         "type": "float"
        },
        {
         "name": "State Bottle Retail",
         "rawType": "float64",
         "type": "float"
        },
        {
         "name": "Bottles Sold",
         "rawType": "int64",
         "type": "integer"
        },
        {
         "name": "Sale (Dollars)",
         "rawType": "float64",
         "type": "float"
        }
       ],
       "ref": "10f113db-fb0a-413f-9c11-6a027f7cb55a",
       "rows": [
        [
         "0",
         "INV-59108400026",
         "06/06/2023",
         "3723",
         "J D SPIRITS LIQUOR",
         "51040",
         "STRAIGHT RYE WHISKIES",
         "INFINIUM SPIRITS",
         "27102",
         "TEMPLETON RYE 4YR",
         "750",
         "18.09",
         "27.14",
         "2",
         "54.28"
        ],
        [
         "1",
         "S16879800057",
         "01/16/2014",
         "3926",
         "LIQUOR DOWNTOWN / IOWA CITY",
         "52240",
         "VODKA 80 PROOF",
         "HEAVEN HILL BRANDS",
         "35416",
         "BURNETT'S VODKA 80 PRF",
         "750",
         "4.84",
         "7.26",
         "12",
         "87.12"
        ],
        [
         "2",
         "INV-05301100019",
         "06/05/2017",
         "3829",
         "GARY'S FOODS / MT VERNON",
         "52314",
         "CANADIAN WHISKIES",
         "DIAGEO AMERICAS",
         "11296",
         "CROWN ROYAL",
         "750",
         "15.59",
         "23.39",
         "6",
         "135.66"
        ],
        [
         "3",
         "INV-40973500083",
         "10/14/2021",
         "5102",
         "WILKIE LIQUORS",
         "52314",
         "AMERICAN SCHNAPPS",
         "JIM BEAM BRANDS",
         "82787",
         "DEKUYPER BUTTERSHOTS",
         "1000",
         "7.87",
         "11.81",
         "12",
         "141.72"
        ],
        [
         "4",
         "INV-17022500013",
         "01/18/2019",
         "2560",
         "HY-VEE FOOD STORE / MARION",
         "52302",
         "WHISKEY LIQUEUR",
         "SAZERAC COMPANY  INC",
         "64863",
         "FIREBALL CINNAMON WHISKEY",
         "200",
         "2.5",
         "3.75",
         "12",
         "45.0"
        ]
       ],
       "shape": {
        "columns": 14,
        "rows": 5
       }
      },
      "text/html": [
       "<div>\n",
       "<style scoped>\n",
       "    .dataframe tbody tr th:only-of-type {\n",
       "        vertical-align: middle;\n",
       "    }\n",
       "\n",
       "    .dataframe tbody tr th {\n",
       "        vertical-align: top;\n",
       "    }\n",
       "\n",
       "    .dataframe thead th {\n",
       "        text-align: right;\n",
       "    }\n",
       "</style>\n",
       "<table border=\"1\" class=\"dataframe\">\n",
       "  <thead>\n",
       "    <tr style=\"text-align: right;\">\n",
       "      <th></th>\n",
       "      <th>Invoice/Item Number</th>\n",
       "      <th>Date</th>\n",
       "      <th>Store Number</th>\n",
       "      <th>Store Name</th>\n",
       "      <th>Zip Code</th>\n",
       "      <th>Category Name</th>\n",
       "      <th>Vendor Name</th>\n",
       "      <th>Item Number</th>\n",
       "      <th>Item Description</th>\n",
       "      <th>Bottle Volume (ml)</th>\n",
       "      <th>State Bottle Cost</th>\n",
       "      <th>State Bottle Retail</th>\n",
       "      <th>Bottles Sold</th>\n",
       "      <th>Sale (Dollars)</th>\n",
       "    </tr>\n",
       "  </thead>\n",
       "  <tbody>\n",
       "    <tr>\n",
       "      <th>0</th>\n",
       "      <td>INV-59108400026</td>\n",
       "      <td>06/06/2023</td>\n",
       "      <td>3723</td>\n",
       "      <td>J D SPIRITS LIQUOR</td>\n",
       "      <td>51040</td>\n",
       "      <td>STRAIGHT RYE WHISKIES</td>\n",
       "      <td>INFINIUM SPIRITS</td>\n",
       "      <td>27102</td>\n",
       "      <td>TEMPLETON RYE 4YR</td>\n",
       "      <td>750</td>\n",
       "      <td>18.09</td>\n",
       "      <td>27.14</td>\n",
       "      <td>2</td>\n",
       "      <td>54.28</td>\n",
       "    </tr>\n",
       "    <tr>\n",
       "      <th>1</th>\n",
       "      <td>S16879800057</td>\n",
       "      <td>01/16/2014</td>\n",
       "      <td>3926</td>\n",
       "      <td>LIQUOR DOWNTOWN / IOWA CITY</td>\n",
       "      <td>52240</td>\n",
       "      <td>VODKA 80 PROOF</td>\n",
       "      <td>HEAVEN HILL BRANDS</td>\n",
       "      <td>35416</td>\n",
       "      <td>BURNETT'S VODKA 80 PRF</td>\n",
       "      <td>750</td>\n",
       "      <td>4.84</td>\n",
       "      <td>7.26</td>\n",
       "      <td>12</td>\n",
       "      <td>87.12</td>\n",
       "    </tr>\n",
       "    <tr>\n",
       "      <th>2</th>\n",
       "      <td>INV-05301100019</td>\n",
       "      <td>06/05/2017</td>\n",
       "      <td>3829</td>\n",
       "      <td>GARY'S FOODS / MT VERNON</td>\n",
       "      <td>52314</td>\n",
       "      <td>CANADIAN WHISKIES</td>\n",
       "      <td>DIAGEO AMERICAS</td>\n",
       "      <td>11296</td>\n",
       "      <td>CROWN ROYAL</td>\n",
       "      <td>750</td>\n",
       "      <td>15.59</td>\n",
       "      <td>23.39</td>\n",
       "      <td>6</td>\n",
       "      <td>135.66</td>\n",
       "    </tr>\n",
       "    <tr>\n",
       "      <th>3</th>\n",
       "      <td>INV-40973500083</td>\n",
       "      <td>10/14/2021</td>\n",
       "      <td>5102</td>\n",
       "      <td>WILKIE LIQUORS</td>\n",
       "      <td>52314</td>\n",
       "      <td>AMERICAN SCHNAPPS</td>\n",
       "      <td>JIM BEAM BRANDS</td>\n",
       "      <td>82787</td>\n",
       "      <td>DEKUYPER BUTTERSHOTS</td>\n",
       "      <td>1000</td>\n",
       "      <td>7.87</td>\n",
       "      <td>11.81</td>\n",
       "      <td>12</td>\n",
       "      <td>141.72</td>\n",
       "    </tr>\n",
       "    <tr>\n",
       "      <th>4</th>\n",
       "      <td>INV-17022500013</td>\n",
       "      <td>01/18/2019</td>\n",
       "      <td>2560</td>\n",
       "      <td>HY-VEE FOOD STORE / MARION</td>\n",
       "      <td>52302</td>\n",
       "      <td>WHISKEY LIQUEUR</td>\n",
       "      <td>SAZERAC COMPANY  INC</td>\n",
       "      <td>64863</td>\n",
       "      <td>FIREBALL CINNAMON WHISKEY</td>\n",
       "      <td>200</td>\n",
       "      <td>2.50</td>\n",
       "      <td>3.75</td>\n",
       "      <td>12</td>\n",
       "      <td>45.00</td>\n",
       "    </tr>\n",
       "  </tbody>\n",
       "</table>\n",
       "</div>"
      ],
      "text/plain": [
       "  Invoice/Item Number        Date  Store Number                   Store Name  \\\n",
       "0     INV-59108400026  06/06/2023          3723           J D SPIRITS LIQUOR   \n",
       "1        S16879800057  01/16/2014          3926  LIQUOR DOWNTOWN / IOWA CITY   \n",
       "2     INV-05301100019  06/05/2017          3829     GARY'S FOODS / MT VERNON   \n",
       "3     INV-40973500083  10/14/2021          5102               WILKIE LIQUORS   \n",
       "4     INV-17022500013  01/18/2019          2560   HY-VEE FOOD STORE / MARION   \n",
       "\n",
       "  Zip Code          Category Name           Vendor Name  Item Number  \\\n",
       "0    51040  STRAIGHT RYE WHISKIES      INFINIUM SPIRITS        27102   \n",
       "1    52240         VODKA 80 PROOF    HEAVEN HILL BRANDS        35416   \n",
       "2    52314      CANADIAN WHISKIES       DIAGEO AMERICAS        11296   \n",
       "3    52314      AMERICAN SCHNAPPS       JIM BEAM BRANDS        82787   \n",
       "4    52302        WHISKEY LIQUEUR  SAZERAC COMPANY  INC        64863   \n",
       "\n",
       "            Item Description  Bottle Volume (ml)  State Bottle Cost  \\\n",
       "0          TEMPLETON RYE 4YR                 750              18.09   \n",
       "1     BURNETT'S VODKA 80 PRF                 750               4.84   \n",
       "2                CROWN ROYAL                 750              15.59   \n",
       "3       DEKUYPER BUTTERSHOTS                1000               7.87   \n",
       "4  FIREBALL CINNAMON WHISKEY                 200               2.50   \n",
       "\n",
       "   State Bottle Retail  Bottles Sold  Sale (Dollars)  \n",
       "0                27.14             2           54.28  \n",
       "1                 7.26            12           87.12  \n",
       "2                23.39             6          135.66  \n",
       "3                11.81            12          141.72  \n",
       "4                 3.75            12           45.00  "
      ]
     },
     "execution_count": 1,
     "metadata": {},
     "output_type": "execute_result"
    }
   ],
   "source": [
    "import pandas as pd\n",
    "\n",
    "iowa = pd.read_csv('/Users/adamchow/Library/CloudStorage/Box-Box/UVA/MSDS/Fall 2025/DS 5030/Assignments/practice1/data/iowa.csv')\n",
    "iowa.head()"
   ]
  },
  {
   "cell_type": "code",
   "execution_count": null,
   "id": "3bc64c08",
   "metadata": {},
   "outputs": [],
   "source": [
    "# Find slippages\n"
   ]
  },
  {
   "cell_type": "code",
   "execution_count": 31,
   "id": "9e945008",
   "metadata": {},
   "outputs": [
    {
     "name": "stdout",
     "output_type": "stream",
     "text": [
      "Item Description\n",
      "TITOS HANDMADE VODKA         361583.84\n",
      "BLACK VELVET                 274024.45\n",
      "FIREBALL CINNAMON WHISKEY    187554.54\n",
      "CROWN ROYAL                  160402.53\n",
      "CROWN ROYAL REGAL APPLE      122614.70\n",
      "Name: Profit, dtype: float64\n"
     ]
    }
   ],
   "source": [
    "# Calculate profit\n",
    "iowa['Profit'] = iowa['Sale (Dollars)'] - (iowa['State Bottle Cost'] * iowa['Bottles Sold'])\n",
    "\n",
    "# Group by liquor type and calculate average profit\n",
    "most_profit = iowa.groupby('Item Description')['Profit'].sum().sort_values(ascending=False)\n",
    "\n",
    "print(most_profit.head())"
   ]
  },
  {
   "cell_type": "markdown",
   "id": "64e14dc8",
   "metadata": {},
   "source": [
    "I am defining profit as net profit, meaning that I will be taking into account how much the item costs to make. I will be taking the sum of  the most profit instead of the mean, because the mean will favor items that get frequently purchased in bulk, but will eliminate other, possibly more profitable items that frequently get singular sells."
   ]
  },
  {
   "cell_type": "code",
   "execution_count": 27,
   "id": "7aacd456",
   "metadata": {},
   "outputs": [
    {
     "data": {
      "image/png": "[encoded data removed]",
      "text/plain": [
       "<Figure size 1000x600 with 1 Axes>"
      ]
     },
     "metadata": {},
     "output_type": "display_data"
    }
   ],
   "source": [
    "import matplotlib.pyplot as plt\n",
    "\n",
    "# Cut top to 10 for visualization\n",
    "top_liquors = most_profit.head(10)\n",
    "\n",
    "# Plot the top liquors\n",
    "plt.figure(figsize=(10, 6))\n",
    "plt.barh(top_liquors.index, top_liquors.values)\n",
    "plt.xlabel('Liquor Type')\n",
    "plt.ylabel('Total Profit')\n",
    "plt.title('Top 10 Most Profitable Liquors in Iowa')\n",
    "plt.xticks(rotation=90) \n",
    "plt.gca().invert_yaxis()\n",
    "plt.show()"
   ]
  },
  {
   "cell_type": "markdown",
   "id": "63593bde",
   "metadata": {},
   "source": [
    "2. This question is to further explore broadcasting in NumPy.\n",
    "\n",
    "- In the first code chunk below, there are two vectors, $x$ and $y$. What happens when you try to subtract them?\n",
    "- Instead, try `x.reshape(-1,1)-y.reshape(1,-1)`. What do you get?\n",
    "- Try `x.reshape(1,-1)-y.reshape(-1,1)`. Compare the results to your previous answer.\n",
    "- Write two double for-loops to replicate the results of the previous two answers. \n",
    "- Clearly explain how `x.reshape(1,-1)` and `x.reshape(-1,1)` change $x$"
   ]
  },
  {
   "cell_type": "code",
   "execution_count": 22,
   "id": "e29b3aac",
   "metadata": {},
   "outputs": [],
   "source": [
    "import numpy as np\n",
    "\n",
    "x = np.array([1,3,5])\n",
    "y = np.array([2,5])"
   ]
  },
  {
   "cell_type": "code",
   "execution_count": null,
   "id": "701fa94c",
   "metadata": {},
   "outputs": [
    {
     "ename": "ValueError",
     "evalue": "operands could not be broadcast together with shapes (3,) (2,) ",
     "output_type": "error",
     "traceback": [
      "\u001b[31m---------------------------------------------------------------------------\u001b[39m",
      "\u001b[31mValueError\u001b[39m                                Traceback (most recent call last)",
      "\u001b[36mCell\u001b[39m\u001b[36m \u001b[39m\u001b[32mIn[11]\u001b[39m\u001b[32m, line 1\u001b[39m\n\u001b[32m----> \u001b[39m\u001b[32m1\u001b[39m \u001b[43mx\u001b[49m\u001b[43m-\u001b[49m\u001b[43my\u001b[49m\n",
      "\u001b[31mValueError\u001b[39m: operands could not be broadcast together with shapes (3,) (2,) "
     ]
    }
   ],
   "source": [
    "# x-y"
   ]
  },
  {
   "cell_type": "markdown",
   "id": "a95f9c52",
   "metadata": {},
   "source": [
    "Trying to subtract y from x results in a `ValueError`. This is because the number of columns that x has does not match the number of rows that y has."
   ]
  },
  {
   "cell_type": "code",
   "execution_count": 12,
   "id": "65c3f227",
   "metadata": {},
   "outputs": [
    {
     "data": {
      "text/plain": [
       "array([[-1, -4],\n",
       "       [ 1, -2],\n",
       "       [ 3,  0]])"
      ]
     },
     "execution_count": 12,
     "metadata": {},
     "output_type": "execute_result"
    }
   ],
   "source": [
    "x.reshape(-1,1)-y.reshape(1,-1)"
   ]
  },
  {
   "cell_type": "markdown",
   "id": "60ba30dd",
   "metadata": {},
   "source": [
    "The output we got was a 3x2 array. This is because the x array is being reshaped into a 3x1 array. On the y side, the reversal of the -1 and 1 essentailly makes `x.reshape(-1,1)` a static change. This transformation doesnt change the shape of y at all, it remains a 1x2 row vector."
   ]
  },
  {
   "cell_type": "code",
   "execution_count": null,
   "id": "e5463162",
   "metadata": {},
   "outputs": [
    {
     "data": {
      "text/plain": [
       "array([[2],\n",
       "       [5]])"
      ]
     },
     "execution_count": 23,
     "metadata": {},
     "output_type": "execute_result"
    }
   ],
   "source": [
    "x.reshape(1,-1)-y.reshape(-1,1)"
   ]
  },
  {
   "cell_type": "markdown",
   "id": "00a15e9c",
   "metadata": {},
   "source": [
    "Since we switched which vector would be transposed, the end result will also be transposed. So instead of a 3x2 vector like last time, we now have a 2x3 vector."
   ]
  },
  {
   "cell_type": "code",
   "execution_count": 17,
   "id": "7a79db70",
   "metadata": {},
   "outputs": [
    {
     "name": "stdout",
     "output_type": "stream",
     "text": [
      "[[-1. -4.]\n",
      " [ 1. -2.]\n",
      " [ 3.  0.]]\n",
      "[[-1.  1.  3.]\n",
      " [-4. -2.  0.]]\n"
     ]
    }
   ],
   "source": [
    "result1 = np.zeros((len(x), len(y)))\n",
    "result2 = np.zeros((len(y), len(x)))\n",
    "for i in range(len(x)):\n",
    "    for j in range(len(y)):\n",
    "        result1[i, j] = x[i] - y[j]\n",
    "        result2[j, i] = x[i] - y[j]\n",
    "print(result1)\n",
    "print(result2)"
   ]
  },
  {
   "cell_type": "markdown",
   "id": "fdacdda0",
   "metadata": {},
   "source": [
    "In the two reshape functions, `x.reshape(-1,1)` transposes the array: it flips the values in its rows and flips them into the values as columns. In our example it transforms this 1x3 to a 3x1 array. On the other hand, `x.reshape(1,-1)` does nothing in actual practice. "
   ]
  },
  {
   "cell_type": "markdown",
   "id": "b29f1d35",
   "metadata": {},
   "source": [
    "3. The indicator function $\\mathbb{I}\\{ x \\le z \\}$ takes the value 0 if $x>z$ and 1 if $x \\le z$ is true, or\n",
    "$$\n",
    "\\mathbb{I}\\{x \\le z\\} = \\begin{cases}\n",
    "0, &x > z \\\\\n",
    "1, &x \\le z\n",
    "\\end{cases}\n",
    "$$\n",
    "\n",
    "- For $x = 3$, plot the indicator function for any $z$\n",
    "- Explain how $ 1- \\mathbb{I}\\{ x \\le z \\} = \\mathbb{I}\\{ x > z \\}$. Drawing a plot might help, or looking at the definition given above.\n",
    "- The code below generates a random sample for different numbers of observations, $N = 3, 30, 300, 3000 $. Write a function to compute the ECDF curve for each sample, and plot your results.\n",
    "- Describe in your own words what happens to the ECDF qualitatively as the sample size $N$ increases"
   ]
  },
  {
   "cell_type": "code",
   "execution_count": 32,
   "id": "339e2ccb",
   "metadata": {},
   "outputs": [
    {
     "data": {
      "image/png": "[encoded data removed]",
      "text/plain": [
       "<Figure size 640x480 with 1 Axes>"
      ]
     },
     "metadata": {},
     "output_type": "display_data"
    }
   ],
   "source": [
    "import numpy as np\n",
    "import matplotlib.pyplot as plt\n",
    "\n",
    "# Indicator function\n",
    "def indicator_function(z, x=3):\n",
    "    return np.where(z <= x, 1, 0)\n",
    "\n",
    "# Array of z\n",
    "z = np.linspace(-10, 10, 1000)\n",
    "\n",
    "# Evaluate the indicator function for each z value\n",
    "y = indicator_function(z)\n",
    "\n",
    "# Plot the indicator function\n",
    "plt.plot(z, y)\n",
    "plt.xlabel('z')\n",
    "plt.ylabel('Indicator Function Value')\n",
    "plt.title('Indicator Function for x = 3')\n",
    "plt.show()"
   ]
  },
  {
   "cell_type": "markdown",
   "id": "aa8290e3",
   "metadata": {},
   "source": [
    "Since I{x <= z} will always equal 1 from the indicator function expressed above, 1 - 1 will equal 0, which is the same value of I{x > z}."
   ]
  },
  {
   "cell_type": "code",
   "execution_count": 35,
   "id": "17ad7d01",
   "metadata": {},
   "outputs": [
    {
     "data": {
      "image/png": "[encoded data removed]",
      "text/plain": [
       "<Figure size 640x480 with 1 Axes>"
      ]
     },
     "metadata": {},
     "output_type": "display_data"
    },
    {
     "data": {
      "image/png": "[encoded data removed]",
      "text/plain": [
       "<Figure size 640x480 with 1 Axes>"
      ]
     },
     "metadata": {},
     "output_type": "display_data"
    },
    {
     "data": {
      "image/png": "[encoded data removed]",
      "text/plain": [
       "<Figure size 640x480 with 1 Axes>"
      ]
     },
     "metadata": {},
     "output_type": "display_data"
    },
    {
     "data": {
      "image/png": "[encoded data removed]",
      "text/plain": [
       "<Figure size 640x480 with 1 Axes>"
      ]
     },
     "metadata": {},
     "output_type": "display_data"
    }
   ],
   "source": [
    "import numpy as np\n",
    "import seaborn as sns\n",
    "import matplotlib.pyplot as plt\n",
    "\n",
    "rng = np.random.default_rng(100)\n",
    "\n",
    "for N in (3,30,300,3000):\n",
    "    X = rng.normal(0,1,N)\n",
    "    # ECDF plot goes here:\n",
    "    sns.ecdfplot(X)\n",
    "    plt.title(f'ECDF for N={N}')\n",
    "    plt.xlabel('Value')\n",
    "    plt.ylabel('ECDF')    \n",
    "    plt.show()"
   ]
  },
  {
   "cell_type": "markdown",
   "id": "85ca26d9",
   "metadata": {},
   "source": [
    "As the sample size N increases, an ECDF curve becomes a better and better approximation of the true CDF of the underlying distribution. For our example,  we sampled from a normal distribution, so the ECDF curve approaches the normal distribution CDF as N gets larger. Eventually, the steps geet so small that you dont see the jagged nature of the steps. "
   ]
  },
  {
   "cell_type": "markdown",
   "id": "6c8f1ebb",
   "metadata": {},
   "source": [
    "4. A **quantile** generalizes the concept of the median so that instead of 50% of the mass below and 50% above, the $q$-quantile is the value for which $q$ proportion of the data are below that value and $(1-q)$ proportion of the data are above that value. This is a concept of **order**.\n",
    "\n",
    "- Write a function that computes any quantile without using Numpy's `np.quantile`\n",
    "- Write a function that computes the **Interquartile Range (IQR)** -- the .25 quantile and the .75 quantile, which brackets 50% of the data -- and the **whiskers**: $\\pm 1.5 \\times \\text{IQR}$ from the edges of the IQR\n",
    "- Write a function that computes a five-number summary and values for a boxplot: the minimum, the .25 quantile, the median, the .75 quantile, and the maximum, and the whiskers\n",
    "- Anything outside the whiskers is an **outlier**; write a function that returns a Boolean vector indicating if the observations are outliers.\n",
    "- For a numeric variable of your choice from one of the datasets, apply your functions from above, and compare your answers with `sns.boxplot` and `df.describe`. "
   ]
  },
  {
   "cell_type": "code",
   "execution_count": 36,
   "id": "2fdfad16",
   "metadata": {},
   "outputs": [],
   "source": [
    "# Numpy Quantile Substitute\n",
    "def compute_quantile(data, q):\n",
    "    sorted_data = sorted(data)\n",
    "    index = (len(sorted_data) - 1) * q\n",
    "    lower_index = int(index)\n",
    "    if index == lower_index:\n",
    "        return sorted_data[lower_index]\n",
    "    else:\n",
    "        return (sorted_data[lower_index] + sorted_data[lower_index + 1]) / 2"
   ]
  },
  {
   "cell_type": "code",
   "execution_count": 37,
   "id": "3a3f8d7a",
   "metadata": {},
   "outputs": [],
   "source": [
    "# IQR + Whiskers\n",
    "def compute_iqr_and_whiskers(data):\n",
    "    q1 = compute_quantile(data, 0.25)\n",
    "    q3 = compute_quantile(data, 0.75)\n",
    "    iqr = q3 - q1\n",
    "\n",
    "    whisker_lower = q1 - 1.5 * iqr\n",
    "    whisker_upper = q3 + 1.5 * iqr\n",
    "    \n",
    "    return iqr, whisker_lower, whisker_upper"
   ]
  },
  {
   "cell_type": "code",
   "execution_count": 38,
   "id": "5b9b6173",
   "metadata": {},
   "outputs": [],
   "source": [
    "# Five-Number Summary\n",
    "def compute_five_number_summary(data):\n",
    "    min_val = min(data)\n",
    "    q1 = compute_quantile(data, 0.25)\n",
    "    median = compute_quantile(data, 0.5)\n",
    "    q3 = compute_quantile(data, 0.75)\n",
    "    max_val = max(data)\n",
    "\n",
    "    iqr, whisker_lower, whisker_upper = compute_iqr_and_whiskers(data)\n",
    "    \n",
    "    return min_val, q1, median, q3, max_val, whisker_lower, whisker_upper"
   ]
  },
  {
   "cell_type": "code",
   "execution_count": 48,
   "id": "c15efc40",
   "metadata": {},
   "outputs": [],
   "source": [
    "# Outliers\n",
    "def find_outliers(data, whisker_lower, whisker_upper):\n",
    "    return [x < whisker_lower or x > whisker_upper for x in data]"
   ]
  },
  {
   "cell_type": "markdown",
   "id": "ad540d06",
   "metadata": {},
   "source": [
    "##### Example Usage"
   ]
  },
  {
   "cell_type": "code",
   "execution_count": null,
   "id": "f18bea51",
   "metadata": {},
   "outputs": [
    {
     "name": "stdout",
     "output_type": "stream",
     "text": [
      "Quantiles (0.25, 0.5, 0.75): [3.0, 6.0, 12.0]\n"
     ]
    }
   ],
   "source": [
    "# Iowa Bottles Sold\n",
    "bottles_sold = iowa['Bottles Sold'].tolist()\n",
    "\n",
    "# Perform compute_quantile\n",
    "quantiles = [compute_quantile(bottles_sold, q) for q in [0.25, 0.5, 0.75]]\n",
    "print(\"Quantiles (0.25, 0.5, 0.75):\", quantiles)"
   ]
  },
  {
   "cell_type": "code",
   "execution_count": null,
   "id": "649620ef",
   "metadata": {},
   "outputs": [
    {
     "name": "stdout",
     "output_type": "stream",
     "text": [
      "IQR and Whiskers (IQR, Lower Whisker, Upper Whisker): (9.0, -10.5, 25.5)\n"
     ]
    }
   ],
   "source": [
    "# Compute IQR and Whiskers\n",
    "iqr_and_whiskers = compute_iqr_and_whiskers(bottles_sold)\n",
    "print(\"IQR and Whiskers (IQR, Lower Whisker, Upper Whisker):\", iqr_and_whiskers)"
   ]
  },
  {
   "cell_type": "code",
   "execution_count": 42,
   "id": "d52042ba",
   "metadata": {},
   "outputs": [
    {
     "name": "stdout",
     "output_type": "stream",
     "text": [
      "Five-Number Summary (Min, Q1, Median, Q3, Max, Lower Whisker, Upper Whisker): (-60, 3.0, 6.0, 12.0, 2400, -10.5, 25.5)\n"
     ]
    }
   ],
   "source": [
    "# Compute Five Number Summary\n",
    "five_number_summary = compute_five_number_summary(bottles_sold)\n",
    "print(\"Five-Number Summary (Min, Q1, Median, Q3, Max, Lower Whisker, Upper Whisker):\", five_number_summary)"
   ]
  },
  {
   "cell_type": "code",
   "execution_count": 52,
   "id": "39c9dd08",
   "metadata": {},
   "outputs": [
    {
     "name": "stdout",
     "output_type": "stream",
     "text": [
      "Number of outliers: 7651\n"
     ]
    }
   ],
   "source": [
    "# Outliers\n",
    "outliers = find_outliers(bottles_sold, iqr_and_whiskers[1], iqr_and_whiskers[2])\n",
    "\n",
    "outlier_indices = np.where(outliers)[0]\n",
    "print(f\"Number of outliers: {len(outlier_indices)}\")"
   ]
  },
  {
   "cell_type": "markdown",
   "id": "5c723ea8",
   "metadata": {},
   "source": [
    "##### Check with Box plot + .describe"
   ]
  },
  {
   "cell_type": "code",
   "execution_count": null,
   "id": "d232889d",
   "metadata": {},
   "outputs": [
    {
     "data": {
      "image/png": "[encoded data removed]",
      "text/plain": [
       "<Figure size 1500x800 with 1 Axes>"
      ]
     },
     "metadata": {},
     "output_type": "display_data"
    }
   ],
   "source": [
    "import seaborn as sns\n",
    "import matplotlib.pyplot as plt\n",
    "\n",
    "plt.figure(figsize=(15, 8))\n",
    "sns.boxplot(bottles_sold, orient='h')\n",
    "plt.xlabel('Bottles Sold')\n",
    "plt.ylabel('Count')\n",
    "plt.title('Boxplot of Bottles Sold')\n",
    "plt.tight_layout()\n",
    "plt.show()"
   ]
  },
  {
   "cell_type": "code",
   "execution_count": 60,
   "id": "de2f3c75",
   "metadata": {},
   "outputs": [
    {
     "name": "stdout",
     "output_type": "stream",
     "text": [
      "count    159904.000000\n",
      "mean         10.883336\n",
      "std          28.042635\n",
      "min         -60.000000\n",
      "25%           3.000000\n",
      "50%           6.000000\n",
      "75%          12.000000\n",
      "max        2400.000000\n",
      "Name: Bottles Sold, dtype: float64\n"
     ]
    }
   ],
   "source": [
    "# Describe\n",
    "print(iowa['Bottles Sold'].describe())"
   ]
  },
  {
   "cell_type": "markdown",
   "id": "b2923b9f",
   "metadata": {},
   "source": [
    "When comparing my five number summary to the `.describe` function, the numbers align perfectly, ensuring that my calculation for these numbers is correct in paractice."
   ]
  },
  {
   "cell_type": "markdown",
   "id": "99f4c407",
   "metadata": {},
   "source": [
    "5. The kernel density estimator captures the concentration of the data around various points, and is defined as\n",
    "$$\n",
    "\\hat{f}_{N,h}(z) = \\frac{1}{N} \\sum_{i=1}^N \\frac{1}{h} k \\left( \\frac{x_i - z}{h}\\right)\n",
    "$$\n",
    "where $h$ is the bandwidth and $k()$ is one of the kernel functions from the class materials (Gaussian, Epanechnikov, uniform, triangular).\n",
    "\n",
    "- Write a function that takes the bandwidth $h$ as given, and computes and plots $\\hat{f}_{N,h}(z)$, for the kernels listed in the slides\n",
    "- Write a function that computes the plug-in bandwidth\n",
    "- Use your functions to analyze some numeric variables from a dataset of your choice, using a variety of bandwidths\n",
    "- Compare bandwidths that are greater or less than the plug-in value with the results for the plug-in value. When does the KDE appear to be overfitting? Underfitting?"
   ]
  }
 ],
 "metadata": {
  "kernelspec": {
   "display_name": "Python 3",
   "language": "python",
   "name": "python3"
  },
  "language_info": {
   "codemirror_mode": {
    "name": "ipython",
    "version": 3
   },
   "file_extension": ".py",
   "mimetype": "text/x-python",
   "name": "python",
   "nbconvert_exporter": "python",
   "pygments_lexer": "ipython3",
   "version": "3.11.13"
  }
 },
 "nbformat": 4,
 "nbformat_minor": 5
}
