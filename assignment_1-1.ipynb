{
 "cells": [
  {
   "cell_type": "markdown",
   "id": "87b91d83",
   "metadata": {},
   "source": [
    "# Assignment 1\n",
    "### Understanding Uncertainty\n",
    "### Due 9/5"
   ]
  },
  {
   "cell_type": "markdown",
   "id": "380e339f",
   "metadata": {},
   "source": [
    "1. Create a new public repo on Github under your account. Include a readme file.\n",
    "2. Clone it to your machine. Put this file into that repo.\n",
    "3. Use the following function to download the example data for the course:"
   ]
  },
  {
   "cell_type": "code",
   "execution_count": 2,
   "id": "2d62b4f6",
   "metadata": {},
   "outputs": [
    {
     "name": "stdout",
     "output_type": "stream",
     "text": [
      "Downloading course data\n",
      "Download complete\n",
      "Extracting data files...\n",
      "Data extracted\n"
     ]
    }
   ],
   "source": [
    "def download_data(force=False):\n",
    "    \"\"\"Download and extract course data from Zenodo.\"\"\"\n",
    "    import urllib.request, zipfile, os\n",
    "    \n",
    "    zip_path = 'data.zip'\n",
    "    data_dir = 'data'\n",
    "    \n",
    "    if not os.path.exists(zip_path) or force:\n",
    "        print(\"Downloading course data\")\n",
    "        urllib.request.urlretrieve(\n",
    "            'https://zenodo.org/records/16954427/files/data.zip?download=1',\n",
    "            zip_path\n",
    "        )\n",
    "        print(\"Download complete\")\n",
    "    else:\n",
    "        print(\"Download file already exists\")\n",
    "        \n",
    "    if not os.path.exists(data_dir) or force:\n",
    "        print(\"Extracting data files...\")\n",
    "        with zipfile.ZipFile(zip_path, 'r') as zip_ref:\n",
    "            zip_ref.extractall(data_dir)\n",
    "        print(\"Data extracted\")\n",
    "    else:\n",
    "        print(\"Data directory already exists\")\n",
    "\n",
    "download_data()"
   ]
  },
  {
   "cell_type": "markdown",
   "id": "01db0045",
   "metadata": {},
   "source": [
    "4. Open one of the datasets using Pandas:\n",
    "    1. `ames_prices.csv`: Housing characteristics and prices\n",
    "    2. `college_completion.csv`: Public, nonprofit, and for-profit educational institutions, graduation rates, and financial aid\n",
    "    3. `ForeignGifts_edu.csv`: Monetary and in-kind transfers from foreign entities to U.S. educational institutions\n",
    "    4. `iowa.csv`: Liquor sales in Iowa, at the transaction level\n",
    "    5. `metabric.csv`: Cancer patient and outcome data\n",
    "    6. `mn_police_use_of_force.csv`: Records of physical altercations between Minnessota police and private citizens\n",
    "    7. `nhanes_data_17_18.csv`: National Health and Nutrition Examination Survey\n",
    "    8. `tuna.csv`: Yellowfin Tuna Genome (I don't recommend this one; it's just a sequence of G, C, A, T )\n",
    "    9. `va_procurement.csv`: Public spending by the state of Virginia"
   ]
  },
  {
   "cell_type": "code",
   "execution_count": null,
   "id": "1943f437",
   "metadata": {},
   "outputs": [
    {
     "data": {
      "application/vnd.microsoft.datawrangler.viewer.v0+json": {
       "columns": [
        {
         "name": "index",
         "rawType": "int64",
         "type": "integer"
        },
        {
         "name": "Order",
         "rawType": "int64",
         "type": "integer"
        },
        {
         "name": "PID",
         "rawType": "int64",
         "type": "integer"
        },
        {
         "name": "area",
         "rawType": "int64",
         "type": "integer"
        },
        {
         "name": "price",
         "rawType": "int64",
         "type": "integer"
        },
        {
         "name": "MS.SubClass",
         "rawType": "int64",
         "type": "integer"
        },
        {
         "name": "MS.Zoning",
         "rawType": "object",
         "type": "string"
        },
        {
         "name": "Lot.Frontage",
         "rawType": "float64",
         "type": "float"
        },
        {
         "name": "Lot.Area",
         "rawType": "int64",
         "type": "integer"
        },
        {
         "name": "Street",
         "rawType": "object",
         "type": "string"
        },
        {
         "name": "Alley",
         "rawType": "object",
         "type": "unknown"
        },
        {
         "name": "Lot.Shape",
         "rawType": "object",
         "type": "string"
        },
        {
         "name": "Land.Contour",
         "rawType": "object",
         "type": "string"
        },
        {
         "name": "Utilities",
         "rawType": "object",
         "type": "string"
        },
        {
         "name": "Lot.Config",
         "rawType": "object",
         "type": "string"
        },
        {
         "name": "Land.Slope",
         "rawType": "object",
         "type": "string"
        },
        {
         "name": "Neighborhood",
         "rawType": "object",
         "type": "string"
        },
        {
         "name": "Condition.1",
         "rawType": "object",
         "type": "string"
        },
        {
         "name": "Condition.2",
         "rawType": "object",
         "type": "string"
        },
        {
         "name": "Bldg.Type",
         "rawType": "object",
         "type": "string"
        },
        {
         "name": "House.Style",
         "rawType": "object",
         "type": "string"
        },
        {
         "name": "Overall.Qual",
         "rawType": "int64",
         "type": "integer"
        },
        {
         "name": "Overall.Cond",
         "rawType": "int64",
         "type": "integer"
        },
        {
         "name": "Year.Built",
         "rawType": "int64",
         "type": "integer"
        },
        {
         "name": "Year.Remod.Add",
         "rawType": "int64",
         "type": "integer"
        },
        {
         "name": "Roof.Style",
         "rawType": "object",
         "type": "string"
        },
        {
         "name": "Roof.Matl",
         "rawType": "object",
         "type": "string"
        },
        {
         "name": "Exterior.1st",
         "rawType": "object",
         "type": "string"
        },
        {
         "name": "Exterior.2nd",
         "rawType": "object",
         "type": "string"
        },
        {
         "name": "Mas.Vnr.Type",
         "rawType": "object",
         "type": "unknown"
        },
        {
         "name": "Mas.Vnr.Area",
         "rawType": "float64",
         "type": "float"
        },
        {
         "name": "Exter.Qual",
         "rawType": "object",
         "type": "string"
        },
        {
         "name": "Exter.Cond",
         "rawType": "object",
         "type": "string"
        },
        {
         "name": "Foundation",
         "rawType": "object",
         "type": "string"
        },
        {
         "name": "Bsmt.Qual",
         "rawType": "object",
         "type": "string"
        },
        {
         "name": "Bsmt.Cond",
         "rawType": "object",
         "type": "string"
        },
        {
         "name": "Bsmt.Exposure",
         "rawType": "object",
         "type": "string"
        },
        {
         "name": "BsmtFin.Type.1",
         "rawType": "object",
         "type": "string"
        },
        {
         "name": "BsmtFin.SF.1",
         "rawType": "float64",
         "type": "float"
        },
        {
         "name": "BsmtFin.Type.2",
         "rawType": "object",
         "type": "string"
        },
        {
         "name": "BsmtFin.SF.2",
         "rawType": "float64",
         "type": "float"
        },
        {
         "name": "Bsmt.Unf.SF",
         "rawType": "float64",
         "type": "float"
        },
        {
         "name": "Total.Bsmt.SF",
         "rawType": "float64",
         "type": "float"
        },
        {
         "name": "Heating",
         "rawType": "object",
         "type": "string"
        },
        {
         "name": "Heating.QC",
         "rawType": "object",
         "type": "string"
        },
        {
         "name": "Central.Air",
         "rawType": "object",
         "type": "string"
        },
        {
         "name": "Electrical",
         "rawType": "object",
         "type": "string"
        },
        {
         "name": "X1st.Flr.SF",
         "rawType": "int64",
         "type": "integer"
        },
        {
         "name": "X2nd.Flr.SF",
         "rawType": "int64",
         "type": "integer"
        },
        {
         "name": "Low.Qual.Fin.SF",
         "rawType": "int64",
         "type": "integer"
        },
        {
         "name": "Bsmt.Full.Bath",
         "rawType": "float64",
         "type": "float"
        },
        {
         "name": "Bsmt.Half.Bath",
         "rawType": "float64",
         "type": "float"
        },
        {
         "name": "Full.Bath",
         "rawType": "int64",
         "type": "integer"
        },
        {
         "name": "Half.Bath",
         "rawType": "int64",
         "type": "integer"
        },
        {
         "name": "Bedroom.AbvGr",
         "rawType": "int64",
         "type": "integer"
        },
        {
         "name": "Kitchen.AbvGr",
         "rawType": "int64",
         "type": "integer"
        },
        {
         "name": "Kitchen.Qual",
         "rawType": "object",
         "type": "string"
        },
        {
         "name": "TotRms.AbvGrd",
         "rawType": "int64",
         "type": "integer"
        },
        {
         "name": "Functional",
         "rawType": "object",
         "type": "string"
        },
        {
         "name": "Fireplaces",
         "rawType": "int64",
         "type": "integer"
        },
        {
         "name": "Fireplace.Qu",
         "rawType": "object",
         "type": "unknown"
        },
        {
         "name": "Garage.Type",
         "rawType": "object",
         "type": "string"
        },
        {
         "name": "Garage.Yr.Blt",
         "rawType": "float64",
         "type": "float"
        },
        {
         "name": "Garage.Finish",
         "rawType": "object",
         "type": "string"
        },
        {
         "name": "Garage.Cars",
         "rawType": "float64",
         "type": "float"
        },
        {
         "name": "Garage.Area",
         "rawType": "float64",
         "type": "float"
        },
        {
         "name": "Garage.Qual",
         "rawType": "object",
         "type": "string"
        },
        {
         "name": "Garage.Cond",
         "rawType": "object",
         "type": "string"
        },
        {
         "name": "Paved.Drive",
         "rawType": "object",
         "type": "string"
        },
        {
         "name": "Wood.Deck.SF",
         "rawType": "int64",
         "type": "integer"
        },
        {
         "name": "Open.Porch.SF",
         "rawType": "int64",
         "type": "integer"
        },
        {
         "name": "Enclosed.Porch",
         "rawType": "int64",
         "type": "integer"
        },
        {
         "name": "X3Ssn.Porch",
         "rawType": "int64",
         "type": "integer"
        },
        {
         "name": "Screen.Porch",
         "rawType": "int64",
         "type": "integer"
        },
        {
         "name": "Pool.Area",
         "rawType": "int64",
         "type": "integer"
        },
        {
         "name": "Pool.QC",
         "rawType": "object",
         "type": "unknown"
        },
        {
         "name": "Fence",
         "rawType": "object",
         "type": "unknown"
        },
        {
         "name": "Misc.Feature",
         "rawType": "object",
         "type": "unknown"
        },
        {
         "name": "Misc.Val",
         "rawType": "int64",
         "type": "integer"
        },
        {
         "name": "Mo.Sold",
         "rawType": "int64",
         "type": "integer"
        },
        {
         "name": "Yr.Sold",
         "rawType": "int64",
         "type": "integer"
        },
        {
         "name": "Sale.Type",
         "rawType": "object",
         "type": "string"
        },
        {
         "name": "Sale.Condition",
         "rawType": "object",
         "type": "string"
        }
       ],
       "ref": "e4e92ab8-120b-408b-8cd0-f82822aba009",
       "rows": [
        [
         "0",
         "1",
         "526301100",
         "1656",
         "215000",
         "20",
         "RL",
         "141.0",
         "31770",
         "Pave",
         null,
         "IR1",
         "Lvl",
         "AllPub",
         "Corner",
         "Gtl",
         "NAmes",
         "Norm",
         "Norm",
         "1Fam",
         "1Story",
         "6",
         "5",
         "1960",
         "1960",
         "Hip",
         "CompShg",
         "BrkFace",
         "Plywood",
         "Stone",
         "112.0",
         "TA",
         "TA",
         "CBlock",
         "TA",
         "Gd",
         "Gd",
         "BLQ",
         "639.0",
         "Unf",
         "0.0",
         "441.0",
         "1080.0",
         "GasA",
         "Fa",
         "Y",
         "SBrkr",
         "1656",
         "0",
         "0",
         "1.0",
         "0.0",
         "1",
         "0",
         "3",
         "1",
         "TA",
         "7",
         "Typ",
         "2",
         "Gd",
         "Attchd",
         "1960.0",
         "Fin",
         "2.0",
         "528.0",
         "TA",
         "TA",
         "P",
         "210",
         "62",
         "0",
         "0",
         "0",
         "0",
         null,
         null,
         null,
         "0",
         "5",
         "2010",
         "WD ",
         "Normal"
        ],
        [
         "1",
         "2",
         "526350040",
         "896",
         "105000",
         "20",
         "RH",
         "80.0",
         "11622",
         "Pave",
         null,
         "Reg",
         "Lvl",
         "AllPub",
         "Inside",
         "Gtl",
         "NAmes",
         "Feedr",
         "Norm",
         "1Fam",
         "1Story",
         "5",
         "6",
         "1961",
         "1961",
         "Gable",
         "CompShg",
         "VinylSd",
         "VinylSd",
         null,
         "0.0",
         "TA",
         "TA",
         "CBlock",
         "TA",
         "TA",
         "No",
         "Rec",
         "468.0",
         "LwQ",
         "144.0",
         "270.0",
         "882.0",
         "GasA",
         "TA",
         "Y",
         "SBrkr",
         "896",
         "0",
         "0",
         "0.0",
         "0.0",
         "1",
         "0",
         "2",
         "1",
         "TA",
         "5",
         "Typ",
         "0",
         null,
         "Attchd",
         "1961.0",
         "Unf",
         "1.0",
         "730.0",
         "TA",
         "TA",
         "Y",
         "140",
         "0",
         "0",
         "0",
         "120",
         "0",
         null,
         "MnPrv",
         null,
         "0",
         "6",
         "2010",
         "WD ",
         "Normal"
        ],
        [
         "2",
         "3",
         "526351010",
         "1329",
         "172000",
         "20",
         "RL",
         "81.0",
         "14267",
         "Pave",
         null,
         "IR1",
         "Lvl",
         "AllPub",
         "Corner",
         "Gtl",
         "NAmes",
         "Norm",
         "Norm",
         "1Fam",
         "1Story",
         "6",
         "6",
         "1958",
         "1958",
         "Hip",
         "CompShg",
         "Wd Sdng",
         "Wd Sdng",
         "BrkFace",
         "108.0",
         "TA",
         "TA",
         "CBlock",
         "TA",
         "TA",
         "No",
         "ALQ",
         "923.0",
         "Unf",
         "0.0",
         "406.0",
         "1329.0",
         "GasA",
         "TA",
         "Y",
         "SBrkr",
         "1329",
         "0",
         "0",
         "0.0",
         "0.0",
         "1",
         "1",
         "3",
         "1",
         "Gd",
         "6",
         "Typ",
         "0",
         null,
         "Attchd",
         "1958.0",
         "Unf",
         "1.0",
         "312.0",
         "TA",
         "TA",
         "Y",
         "393",
         "36",
         "0",
         "0",
         "0",
         "0",
         null,
         null,
         "Gar2",
         "12500",
         "6",
         "2010",
         "WD ",
         "Normal"
        ],
        [
         "3",
         "4",
         "526353030",
         "2110",
         "244000",
         "20",
         "RL",
         "93.0",
         "11160",
         "Pave",
         null,
         "Reg",
         "Lvl",
         "AllPub",
         "Corner",
         "Gtl",
         "NAmes",
         "Norm",
         "Norm",
         "1Fam",
         "1Story",
         "7",
         "5",
         "1968",
         "1968",
         "Hip",
         "CompShg",
         "BrkFace",
         "BrkFace",
         null,
         "0.0",
         "Gd",
         "TA",
         "CBlock",
         "TA",
         "TA",
         "No",
         "ALQ",
         "1065.0",
         "Unf",
         "0.0",
         "1045.0",
         "2110.0",
         "GasA",
         "Ex",
         "Y",
         "SBrkr",
         "2110",
         "0",
         "0",
         "1.0",
         "0.0",
         "2",
         "1",
         "3",
         "1",
         "Ex",
         "8",
         "Typ",
         "2",
         "TA",
         "Attchd",
         "1968.0",
         "Fin",
         "2.0",
         "522.0",
         "TA",
         "TA",
         "Y",
         "0",
         "0",
         "0",
         "0",
         "0",
         "0",
         null,
         null,
         null,
         "0",
         "4",
         "2010",
         "WD ",
         "Normal"
        ],
        [
         "4",
         "5",
         "527105010",
         "1629",
         "189900",
         "60",
         "RL",
         "74.0",
         "13830",
         "Pave",
         null,
         "IR1",
         "Lvl",
         "AllPub",
         "Inside",
         "Gtl",
         "Gilbert",
         "Norm",
         "Norm",
         "1Fam",
         "2Story",
         "5",
         "5",
         "1997",
         "1998",
         "Gable",
         "CompShg",
         "VinylSd",
         "VinylSd",
         null,
         "0.0",
         "TA",
         "TA",
         "PConc",
         "Gd",
         "TA",
         "No",
         "GLQ",
         "791.0",
         "Unf",
         "0.0",
         "137.0",
         "928.0",
         "GasA",
         "Gd",
         "Y",
         "SBrkr",
         "928",
         "701",
         "0",
         "0.0",
         "0.0",
         "2",
         "1",
         "3",
         "1",
         "TA",
         "6",
         "Typ",
         "1",
         "TA",
         "Attchd",
         "1997.0",
         "Fin",
         "2.0",
         "482.0",
         "TA",
         "TA",
         "Y",
         "212",
         "34",
         "0",
         "0",
         "0",
         "0",
         null,
         "MnPrv",
         null,
         "0",
         "3",
         "2010",
         "WD ",
         "Normal"
        ]
       ],
       "shape": {
        "columns": 82,
        "rows": 5
       }
      },
      "text/html": [
       "<div>\n",
       "<style scoped>\n",
       "    .dataframe tbody tr th:only-of-type {\n",
       "        vertical-align: middle;\n",
       "    }\n",
       "\n",
       "    .dataframe tbody tr th {\n",
       "        vertical-align: top;\n",
       "    }\n",
       "\n",
       "    .dataframe thead th {\n",
       "        text-align: right;\n",
       "    }\n",
       "</style>\n",
       "<table border=\"1\" class=\"dataframe\">\n",
       "  <thead>\n",
       "    <tr style=\"text-align: right;\">\n",
       "      <th></th>\n",
       "      <th>Order</th>\n",
       "      <th>PID</th>\n",
       "      <th>area</th>\n",
       "      <th>price</th>\n",
       "      <th>MS.SubClass</th>\n",
       "      <th>MS.Zoning</th>\n",
       "      <th>Lot.Frontage</th>\n",
       "      <th>Lot.Area</th>\n",
       "      <th>Street</th>\n",
       "      <th>Alley</th>\n",
       "      <th>...</th>\n",
       "      <th>Screen.Porch</th>\n",
       "      <th>Pool.Area</th>\n",
       "      <th>Pool.QC</th>\n",
       "      <th>Fence</th>\n",
       "      <th>Misc.Feature</th>\n",
       "      <th>Misc.Val</th>\n",
       "      <th>Mo.Sold</th>\n",
       "      <th>Yr.Sold</th>\n",
       "      <th>Sale.Type</th>\n",
       "      <th>Sale.Condition</th>\n",
       "    </tr>\n",
       "  </thead>\n",
       "  <tbody>\n",
       "    <tr>\n",
       "      <th>0</th>\n",
       "      <td>1</td>\n",
       "      <td>526301100</td>\n",
       "      <td>1656</td>\n",
       "      <td>215000</td>\n",
       "      <td>20</td>\n",
       "      <td>RL</td>\n",
       "      <td>141.0</td>\n",
       "      <td>31770</td>\n",
       "      <td>Pave</td>\n",
       "      <td>NaN</td>\n",
       "      <td>...</td>\n",
       "      <td>0</td>\n",
       "      <td>0</td>\n",
       "      <td>NaN</td>\n",
       "      <td>NaN</td>\n",
       "      <td>NaN</td>\n",
       "      <td>0</td>\n",
       "      <td>5</td>\n",
       "      <td>2010</td>\n",
       "      <td>WD</td>\n",
       "      <td>Normal</td>\n",
       "    </tr>\n",
       "    <tr>\n",
       "      <th>1</th>\n",
       "      <td>2</td>\n",
       "      <td>526350040</td>\n",
       "      <td>896</td>\n",
       "      <td>105000</td>\n",
       "      <td>20</td>\n",
       "      <td>RH</td>\n",
       "      <td>80.0</td>\n",
       "      <td>11622</td>\n",
       "      <td>Pave</td>\n",
       "      <td>NaN</td>\n",
       "      <td>...</td>\n",
       "      <td>120</td>\n",
       "      <td>0</td>\n",
       "      <td>NaN</td>\n",
       "      <td>MnPrv</td>\n",
       "      <td>NaN</td>\n",
       "      <td>0</td>\n",
       "      <td>6</td>\n",
       "      <td>2010</td>\n",
       "      <td>WD</td>\n",
       "      <td>Normal</td>\n",
       "    </tr>\n",
       "    <tr>\n",
       "      <th>2</th>\n",
       "      <td>3</td>\n",
       "      <td>526351010</td>\n",
       "      <td>1329</td>\n",
       "      <td>172000</td>\n",
       "      <td>20</td>\n",
       "      <td>RL</td>\n",
       "      <td>81.0</td>\n",
       "      <td>14267</td>\n",
       "      <td>Pave</td>\n",
       "      <td>NaN</td>\n",
       "      <td>...</td>\n",
       "      <td>0</td>\n",
       "      <td>0</td>\n",
       "      <td>NaN</td>\n",
       "      <td>NaN</td>\n",
       "      <td>Gar2</td>\n",
       "      <td>12500</td>\n",
       "      <td>6</td>\n",
       "      <td>2010</td>\n",
       "      <td>WD</td>\n",
       "      <td>Normal</td>\n",
       "    </tr>\n",
       "    <tr>\n",
       "      <th>3</th>\n",
       "      <td>4</td>\n",
       "      <td>526353030</td>\n",
       "      <td>2110</td>\n",
       "      <td>244000</td>\n",
       "      <td>20</td>\n",
       "      <td>RL</td>\n",
       "      <td>93.0</td>\n",
       "      <td>11160</td>\n",
       "      <td>Pave</td>\n",
       "      <td>NaN</td>\n",
       "      <td>...</td>\n",
       "      <td>0</td>\n",
       "      <td>0</td>\n",
       "      <td>NaN</td>\n",
       "      <td>NaN</td>\n",
       "      <td>NaN</td>\n",
       "      <td>0</td>\n",
       "      <td>4</td>\n",
       "      <td>2010</td>\n",
       "      <td>WD</td>\n",
       "      <td>Normal</td>\n",
       "    </tr>\n",
       "    <tr>\n",
       "      <th>4</th>\n",
       "      <td>5</td>\n",
       "      <td>527105010</td>\n",
       "      <td>1629</td>\n",
       "      <td>189900</td>\n",
       "      <td>60</td>\n",
       "      <td>RL</td>\n",
       "      <td>74.0</td>\n",
       "      <td>13830</td>\n",
       "      <td>Pave</td>\n",
       "      <td>NaN</td>\n",
       "      <td>...</td>\n",
       "      <td>0</td>\n",
       "      <td>0</td>\n",
       "      <td>NaN</td>\n",
       "      <td>MnPrv</td>\n",
       "      <td>NaN</td>\n",
       "      <td>0</td>\n",
       "      <td>3</td>\n",
       "      <td>2010</td>\n",
       "      <td>WD</td>\n",
       "      <td>Normal</td>\n",
       "    </tr>\n",
       "  </tbody>\n",
       "</table>\n",
       "<p>5 rows × 82 columns</p>\n",
       "</div>"
      ],
      "text/plain": [
       "   Order        PID  area   price  MS.SubClass MS.Zoning  Lot.Frontage  \\\n",
       "0      1  526301100  1656  215000           20        RL         141.0   \n",
       "1      2  526350040   896  105000           20        RH          80.0   \n",
       "2      3  526351010  1329  172000           20        RL          81.0   \n",
       "3      4  526353030  2110  244000           20        RL          93.0   \n",
       "4      5  527105010  1629  189900           60        RL          74.0   \n",
       "\n",
       "   Lot.Area Street Alley  ... Screen.Porch Pool.Area Pool.QC  Fence  \\\n",
       "0     31770   Pave   NaN  ...            0         0     NaN    NaN   \n",
       "1     11622   Pave   NaN  ...          120         0     NaN  MnPrv   \n",
       "2     14267   Pave   NaN  ...            0         0     NaN    NaN   \n",
       "3     11160   Pave   NaN  ...            0         0     NaN    NaN   \n",
       "4     13830   Pave   NaN  ...            0         0     NaN  MnPrv   \n",
       "\n",
       "  Misc.Feature Misc.Val Mo.Sold Yr.Sold Sale.Type Sale.Condition  \n",
       "0          NaN        0       5    2010       WD          Normal  \n",
       "1          NaN        0       6    2010       WD          Normal  \n",
       "2         Gar2    12500       6    2010       WD          Normal  \n",
       "3          NaN        0       4    2010       WD          Normal  \n",
       "4          NaN        0       3    2010       WD          Normal  \n",
       "\n",
       "[5 rows x 82 columns]"
      ]
     },
     "execution_count": 5,
     "metadata": {},
     "output_type": "execute_result"
    }
   ],
   "source": [
    "import pandas as pd\n",
    "import numpy as np\n",
    "\n",
    "# Load dataset\n",
    "df = pd.read_csv('data/ames_prices.csv')\n",
    "df.head()"
   ]
  },
  {
   "cell_type": "markdown",
   "id": "fa5cade1",
   "metadata": {},
   "source": [
    "5. Pick two or three variables and briefly analyze them\n",
    "    - Is it a categorical or numeric variable?\n",
    "    - How many missing values are there? (`df['var'].isna()` and `np.sum()`)\n",
    "    - If categorical, tabulate the values (`df['var'].value_counts()`) and if numeric, get a summary (`df['var'].describe()`)"
   ]
  },
  {
   "cell_type": "markdown",
   "id": "cb4036e8",
   "metadata": {},
   "source": [
    "##### PID Variable"
   ]
  },
  {
   "cell_type": "code",
   "execution_count": null,
   "id": "adfe3928",
   "metadata": {},
   "outputs": [
    {
     "data": {
      "text/plain": [
       "dtype('int64')"
      ]
     },
     "execution_count": 7,
     "metadata": {},
     "output_type": "execute_result"
    }
   ],
   "source": [
    "# Get Variable Type\n",
    "df['PID'].dtype"
   ]
  },
  {
   "cell_type": "markdown",
   "id": "c70d9100",
   "metadata": {},
   "source": [
    "PID is definitely an integer value, even though it is genrally treated as a classifier. "
   ]
  },
  {
   "cell_type": "code",
   "execution_count": null,
   "id": "17ab02e2",
   "metadata": {},
   "outputs": [
    {
     "data": {
      "text/plain": [
       "np.int64(0)"
      ]
     },
     "execution_count": 8,
     "metadata": {},
     "output_type": "execute_result"
    }
   ],
   "source": [
    "# Find the sum of missing values\n",
    "np.sum(df['PID'].isna())"
   ]
  },
  {
   "cell_type": "markdown",
   "id": "4736b223",
   "metadata": {},
   "source": [
    "The `PID` Variable has no missing values."
   ]
  },
  {
   "cell_type": "code",
   "execution_count": 9,
   "id": "dff21d67",
   "metadata": {},
   "outputs": [
    {
     "data": {
      "application/vnd.microsoft.datawrangler.viewer.v0+json": {
       "columns": [
        {
         "name": "index",
         "rawType": "object",
         "type": "string"
        },
        {
         "name": "PID",
         "rawType": "float64",
         "type": "float"
        }
       ],
       "ref": "2d6f5c62-142f-459a-b48e-596d3b1ca499",
       "rows": [
        [
         "count",
         "2930.0"
        ],
        [
         "mean",
         "714464496.9887372"
        ],
        [
         "std",
         "188730844.64939007"
        ],
        [
         "min",
         "526301100.0"
        ],
        [
         "25%",
         "528477022.5"
        ],
        [
         "50%",
         "535453620.0"
        ],
        [
         "75%",
         "907181097.5"
        ],
        [
         "max",
         "1007100110.0"
        ]
       ],
       "shape": {
        "columns": 1,
        "rows": 8
       }
      },
      "text/plain": [
       "count    2.930000e+03\n",
       "mean     7.144645e+08\n",
       "std      1.887308e+08\n",
       "min      5.263011e+08\n",
       "25%      5.284770e+08\n",
       "50%      5.354536e+08\n",
       "75%      9.071811e+08\n",
       "max      1.007100e+09\n",
       "Name: PID, dtype: float64"
      ]
     },
     "execution_count": 9,
     "metadata": {},
     "output_type": "execute_result"
    }
   ],
   "source": [
    "# Get Tabular Summary\n",
    "df['PID'].describe()"
   ]
  },
  {
   "cell_type": "markdown",
   "id": "b3fd8d64",
   "metadata": {},
   "source": [
    "##### Heating Variable"
   ]
  },
  {
   "cell_type": "code",
   "execution_count": 11,
   "id": "265a0eb8",
   "metadata": {},
   "outputs": [
    {
     "data": {
      "text/plain": [
       "dtype('O')"
      ]
     },
     "execution_count": 11,
     "metadata": {},
     "output_type": "execute_result"
    }
   ],
   "source": [
    "# Get Variable Type\n",
    "df['Heating'].dtype"
   ]
  },
  {
   "cell_type": "markdown",
   "id": "849ae3e2",
   "metadata": {},
   "source": [
    "This means that `Heating` is a categorical variable."
   ]
  },
  {
   "cell_type": "code",
   "execution_count": 12,
   "id": "58a2b140",
   "metadata": {},
   "outputs": [
    {
     "data": {
      "text/plain": [
       "np.int64(0)"
      ]
     },
     "execution_count": 12,
     "metadata": {},
     "output_type": "execute_result"
    }
   ],
   "source": [
    "# Find the sum of missing values\n",
    "np.sum(df['Heating'].isna())"
   ]
  },
  {
   "cell_type": "markdown",
   "id": "d0e6c400",
   "metadata": {},
   "source": [
    "The `PID` Variable has no missing values."
   ]
  },
  {
   "cell_type": "code",
   "execution_count": 13,
   "id": "60c70fde",
   "metadata": {},
   "outputs": [
    {
     "data": {
      "application/vnd.microsoft.datawrangler.viewer.v0+json": {
       "columns": [
        {
         "name": "Heating",
         "rawType": "object",
         "type": "string"
        },
        {
         "name": "count",
         "rawType": "int64",
         "type": "integer"
        }
       ],
       "ref": "d085c77e-fb56-4e09-9cb2-50d73126b2ea",
       "rows": [
        [
         "GasA",
         "2885"
        ],
        [
         "GasW",
         "27"
        ],
        [
         "Grav",
         "9"
        ],
        [
         "Wall",
         "6"
        ],
        [
         "OthW",
         "2"
        ],
        [
         "Floor",
         "1"
        ]
       ],
       "shape": {
        "columns": 1,
        "rows": 6
       }
      },
      "text/plain": [
       "Heating\n",
       "GasA     2885\n",
       "GasW       27\n",
       "Grav        9\n",
       "Wall        6\n",
       "OthW        2\n",
       "Floor       1\n",
       "Name: count, dtype: int64"
      ]
     },
     "execution_count": 13,
     "metadata": {},
     "output_type": "execute_result"
    }
   ],
   "source": [
    "df['Heating'].value_counts()"
   ]
  },
  {
   "cell_type": "markdown",
   "id": "3e3466ce",
   "metadata": {},
   "source": [
    "##### Lot Frontage Variable"
   ]
  },
  {
   "cell_type": "code",
   "execution_count": 14,
   "id": "555db416",
   "metadata": {},
   "outputs": [
    {
     "data": {
      "text/plain": [
       "dtype('float64')"
      ]
     },
     "execution_count": 14,
     "metadata": {},
     "output_type": "execute_result"
    }
   ],
   "source": [
    "# Get Variable Type\n",
    "df['Lot.Frontage'].dtype"
   ]
  },
  {
   "cell_type": "markdown",
   "id": "0e54e80d",
   "metadata": {},
   "source": [
    "The `Lot.Frontage` variable is a float type, since there are decimal points in the variable."
   ]
  },
  {
   "cell_type": "code",
   "execution_count": 15,
   "id": "14b8f583",
   "metadata": {},
   "outputs": [
    {
     "data": {
      "text/plain": [
       "np.int64(490)"
      ]
     },
     "execution_count": 15,
     "metadata": {},
     "output_type": "execute_result"
    }
   ],
   "source": [
    "# Find the sum of missing values\n",
    "np.sum(df['Lot.Frontage'].isna())"
   ]
  },
  {
   "cell_type": "markdown",
   "id": "6eb064d4",
   "metadata": {},
   "source": [
    "This variable has 490 missing cases out of the 2930 rows. "
   ]
  },
  {
   "cell_type": "code",
   "execution_count": 17,
   "id": "d3295804",
   "metadata": {},
   "outputs": [
    {
     "data": {
      "application/vnd.microsoft.datawrangler.viewer.v0+json": {
       "columns": [
        {
         "name": "index",
         "rawType": "object",
         "type": "string"
        },
        {
         "name": "Lot.Frontage",
         "rawType": "float64",
         "type": "float"
        }
       ],
       "ref": "1a1f4545-cfaa-4a7e-89fa-98a2da77c0b0",
       "rows": [
        [
         "count",
         "2440.0"
        ],
        [
         "mean",
         "69.22459016393442"
        ],
        [
         "std",
         "23.3653349745034"
        ],
        [
         "min",
         "21.0"
        ],
        [
         "25%",
         "58.0"
        ],
        [
         "50%",
         "68.0"
        ],
        [
         "75%",
         "80.0"
        ],
        [
         "max",
         "313.0"
        ]
       ],
       "shape": {
        "columns": 1,
        "rows": 8
       }
      },
      "text/plain": [
       "count    2440.000000\n",
       "mean       69.224590\n",
       "std        23.365335\n",
       "min        21.000000\n",
       "25%        58.000000\n",
       "50%        68.000000\n",
       "75%        80.000000\n",
       "max       313.000000\n",
       "Name: Lot.Frontage, dtype: float64"
      ]
     },
     "execution_count": 17,
     "metadata": {},
     "output_type": "execute_result"
    }
   ],
   "source": [
    "# Get Tabular Summary\n",
    "df['Lot.Frontage'].describe()"
   ]
  },
  {
   "cell_type": "markdown",
   "id": "a048d76f",
   "metadata": {},
   "source": [
    "### Empricical cdf of the response variable."
   ]
  },
  {
   "cell_type": "markdown",
   "id": "dbf2318a",
   "metadata": {},
   "source": [
    "6. What are some questions and prediction tools you could create using these data? Who would the stakeholder be for that prediction tool? What practical or ethical questions would it create? What other data would you want, that are not available in your data?"
   ]
  },
  {
   "cell_type": "markdown",
   "id": "c9da6327",
   "metadata": {},
   "source": [
    "I think that one of the most intruiging quesitons you could answer using this data set would be: *What would be the estimated value of my home given its characteristics?*\n",
    "\n",
    "In order to solve this question, we could create a prediction tool, something like Gradient Boosting for Regression, to estimate the predicted value of a home with its given conditions, specs, ammenities, etc. This tool would be extremely helpful for particular stakeolders that are trying to sell their home and want to get a realistic, statistical gauge of how much their home should be evaluated at. It could also be helpful for buyers to get an unbiased prespective on the true value of a house considering the factors that the buyer actually cares about.\n",
    "\n",
    "As for the questions and concerns that this tool could pose, we would need to ensure that if the tool is being used from the seller's perspective, then we do not include any information that the seller does not want to be included that could be too personal or sensitive. We would also need to be particularly aware about potential multicolinearity between variables in order to reduce redundancy and underlying biases.\n",
    "\n",
    "In addiiton to the neighborhood, I would also like a wider scope of the location: county, city, state, or even country. The scope would depend on how far apart these properties are from each other. If all of these neighborhoods were within a localized vicinity, then these extra variables would not provide any value or context to the overall analysis."
   ]
  },
  {
   "cell_type": "markdown",
   "id": "a4a7ddc7",
   "metadata": {},
   "source": [
    "7. Commit your work to the repo (`git commit -am 'Finish assignment'` at the command line, or use the Git panel in VS Code). Push your work back to Github and submit the link on Canvas in the assignment tab."
   ]
  }
 ],
 "metadata": {
  "kernelspec": {
   "display_name": "Python 3",
   "language": "python",
   "name": "python3"
  },
  "language_info": {
   "codemirror_mode": {
    "name": "ipython",
    "version": 3
   },
   "file_extension": ".py",
   "mimetype": "text/x-python",
   "name": "python",
   "nbconvert_exporter": "python",
   "pygments_lexer": "ipython3",
   "version": "3.11.13"
  }
 },
 "nbformat": 4,
 "nbformat_minor": 5
}
